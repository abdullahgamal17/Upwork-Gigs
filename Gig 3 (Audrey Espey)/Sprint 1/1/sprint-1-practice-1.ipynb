{
 "cells": [
  {
   "cell_type": "markdown",
   "metadata": {},
   "source": [
    "## Practice: Data Trip\n",
    "\n",
    "In this practice assignment, we'll explore a [dataset of taxi trips in NYC](https://www1.nyc.gov/site/tlc/about/tlc-trip-record-data.page) and a famous [dataset of passengers on the Titanic](https://github.com/mwaskom/seaborn-data/blob/master/titanic.csv)."
   ]
  },
  {
   "cell_type": "markdown",
   "metadata": {},
   "source": [
    "### Data Inspection\n",
    "\n",
    "To start, let's imagine that we're building a new NYC transportation app and want to better understand how travelers are currently using taxi services. We've been given a dataset of taxi trips from the past 30 days, which we'll explore for patterns and insights.\n",
    "\n",
    "Before we can load the data and inspect it, we'll need to import some Python libraries for data analysis."
   ]
  },
  {
   "cell_type": "code",
   "execution_count": 1,
   "metadata": {},
   "outputs": [
    {
     "name": "stdout",
     "output_type": "stream",
     "text": [
      "The libraries are loaded\n"
     ]
    }
   ],
   "source": [
    "# Import libraries\n",
    "import pandas as pd\n",
    "import numpy as np\n",
    "import matplotlib.pyplot as plt\n",
    "import seaborn as sns\n",
    "print('The libraries are loaded')"
   ]
  },
  {
   "cell_type": "markdown",
   "metadata": {},
   "source": [
    "Next, we'll read in the data and inspect the first few rows. This will help us figure out what kind of data we have."
   ]
  },
  {
   "cell_type": "code",
   "execution_count": 2,
   "metadata": {},
   "outputs": [
    {
     "data": {
      "text/html": [
       "<div>\n",
       "<style scoped>\n",
       "    .dataframe tbody tr th:only-of-type {\n",
       "        vertical-align: middle;\n",
       "    }\n",
       "\n",
       "    .dataframe tbody tr th {\n",
       "        vertical-align: top;\n",
       "    }\n",
       "\n",
       "    .dataframe thead th {\n",
       "        text-align: right;\n",
       "    }\n",
       "</style>\n",
       "<table border=\"1\" class=\"dataframe\">\n",
       "  <thead>\n",
       "    <tr style=\"text-align: right;\">\n",
       "      <th></th>\n",
       "      <th>pickup</th>\n",
       "      <th>dropoff</th>\n",
       "      <th>passengers</th>\n",
       "      <th>distance</th>\n",
       "      <th>fare</th>\n",
       "      <th>tip</th>\n",
       "      <th>tolls</th>\n",
       "      <th>total</th>\n",
       "      <th>color</th>\n",
       "      <th>payment</th>\n",
       "      <th>pickup_zone</th>\n",
       "      <th>dropoff_zone</th>\n",
       "      <th>pickup_borough</th>\n",
       "      <th>dropoff_borough</th>\n",
       "    </tr>\n",
       "  </thead>\n",
       "  <tbody>\n",
       "    <tr>\n",
       "      <th>0</th>\n",
       "      <td>2019-03-23 20:21:09</td>\n",
       "      <td>2019-03-23 20:27:24</td>\n",
       "      <td>1</td>\n",
       "      <td>1.60</td>\n",
       "      <td>7.0</td>\n",
       "      <td>2.15</td>\n",
       "      <td>0.0</td>\n",
       "      <td>12.95</td>\n",
       "      <td>yellow</td>\n",
       "      <td>credit card</td>\n",
       "      <td>Lenox Hill West</td>\n",
       "      <td>UN/Turtle Bay South</td>\n",
       "      <td>Manhattan</td>\n",
       "      <td>Manhattan</td>\n",
       "    </tr>\n",
       "    <tr>\n",
       "      <th>1</th>\n",
       "      <td>2019-03-04 16:11:55</td>\n",
       "      <td>2019-03-04 16:19:00</td>\n",
       "      <td>1</td>\n",
       "      <td>0.79</td>\n",
       "      <td>5.0</td>\n",
       "      <td>0.00</td>\n",
       "      <td>0.0</td>\n",
       "      <td>9.30</td>\n",
       "      <td>yellow</td>\n",
       "      <td>cash</td>\n",
       "      <td>Upper West Side South</td>\n",
       "      <td>Upper West Side South</td>\n",
       "      <td>Manhattan</td>\n",
       "      <td>Manhattan</td>\n",
       "    </tr>\n",
       "    <tr>\n",
       "      <th>2</th>\n",
       "      <td>2019-03-27 17:53:01</td>\n",
       "      <td>2019-03-27 18:00:25</td>\n",
       "      <td>1</td>\n",
       "      <td>1.37</td>\n",
       "      <td>7.5</td>\n",
       "      <td>2.36</td>\n",
       "      <td>0.0</td>\n",
       "      <td>14.16</td>\n",
       "      <td>yellow</td>\n",
       "      <td>credit card</td>\n",
       "      <td>Alphabet City</td>\n",
       "      <td>West Village</td>\n",
       "      <td>Manhattan</td>\n",
       "      <td>Manhattan</td>\n",
       "    </tr>\n",
       "    <tr>\n",
       "      <th>3</th>\n",
       "      <td>2019-03-10 01:23:59</td>\n",
       "      <td>2019-03-10 01:49:51</td>\n",
       "      <td>1</td>\n",
       "      <td>7.70</td>\n",
       "      <td>27.0</td>\n",
       "      <td>6.15</td>\n",
       "      <td>0.0</td>\n",
       "      <td>36.95</td>\n",
       "      <td>yellow</td>\n",
       "      <td>credit card</td>\n",
       "      <td>Hudson Sq</td>\n",
       "      <td>Yorkville West</td>\n",
       "      <td>Manhattan</td>\n",
       "      <td>Manhattan</td>\n",
       "    </tr>\n",
       "    <tr>\n",
       "      <th>4</th>\n",
       "      <td>2019-03-30 13:27:42</td>\n",
       "      <td>2019-03-30 13:37:14</td>\n",
       "      <td>3</td>\n",
       "      <td>2.16</td>\n",
       "      <td>9.0</td>\n",
       "      <td>1.10</td>\n",
       "      <td>0.0</td>\n",
       "      <td>13.40</td>\n",
       "      <td>yellow</td>\n",
       "      <td>credit card</td>\n",
       "      <td>Midtown East</td>\n",
       "      <td>Yorkville West</td>\n",
       "      <td>Manhattan</td>\n",
       "      <td>Manhattan</td>\n",
       "    </tr>\n",
       "  </tbody>\n",
       "</table>\n",
       "</div>"
      ],
      "text/plain": [
       "                pickup              dropoff  passengers  distance  fare   tip  \\\n",
       "0  2019-03-23 20:21:09  2019-03-23 20:27:24           1      1.60   7.0  2.15   \n",
       "1  2019-03-04 16:11:55  2019-03-04 16:19:00           1      0.79   5.0  0.00   \n",
       "2  2019-03-27 17:53:01  2019-03-27 18:00:25           1      1.37   7.5  2.36   \n",
       "3  2019-03-10 01:23:59  2019-03-10 01:49:51           1      7.70  27.0  6.15   \n",
       "4  2019-03-30 13:27:42  2019-03-30 13:37:14           3      2.16   9.0  1.10   \n",
       "\n",
       "   tolls  total   color      payment            pickup_zone  \\\n",
       "0    0.0  12.95  yellow  credit card        Lenox Hill West   \n",
       "1    0.0   9.30  yellow         cash  Upper West Side South   \n",
       "2    0.0  14.16  yellow  credit card          Alphabet City   \n",
       "3    0.0  36.95  yellow  credit card              Hudson Sq   \n",
       "4    0.0  13.40  yellow  credit card           Midtown East   \n",
       "\n",
       "            dropoff_zone pickup_borough dropoff_borough  \n",
       "0    UN/Turtle Bay South      Manhattan       Manhattan  \n",
       "1  Upper West Side South      Manhattan       Manhattan  \n",
       "2           West Village      Manhattan       Manhattan  \n",
       "3         Yorkville West      Manhattan       Manhattan  \n",
       "4         Yorkville West      Manhattan       Manhattan  "
      ]
     },
     "execution_count": 2,
     "metadata": {},
     "output_type": "execute_result"
    }
   ],
   "source": [
    "# Import data\n",
    "taxis = pd.read_csv('taxis.csv')\n",
    "taxis.head()"
   ]
  },
  {
   "cell_type": "markdown",
   "metadata": {},
   "source": [
    "We can use the `.info()` method to inspect some information about this dataframe.\n",
    "\n",
    "[Function documentation](https://pandas.pydata.org/pandas-docs/stable/reference/api/pandas.DataFrame.info.html)"
   ]
  },
  {
   "cell_type": "code",
   "execution_count": 3,
   "metadata": {},
   "outputs": [
    {
     "name": "stdout",
     "output_type": "stream",
     "text": [
      "<class 'pandas.core.frame.DataFrame'>\n",
      "RangeIndex: 6433 entries, 0 to 6432\n",
      "Data columns (total 14 columns):\n",
      " #   Column           Non-Null Count  Dtype  \n",
      "---  ------           --------------  -----  \n",
      " 0   pickup           6433 non-null   object \n",
      " 1   dropoff          6433 non-null   object \n",
      " 2   passengers       6433 non-null   int64  \n",
      " 3   distance         6433 non-null   float64\n",
      " 4   fare             6433 non-null   float64\n",
      " 5   tip              6433 non-null   float64\n",
      " 6   tolls            6433 non-null   float64\n",
      " 7   total            6433 non-null   float64\n",
      " 8   color            6433 non-null   object \n",
      " 9   payment          6389 non-null   object \n",
      " 10  pickup_zone      6407 non-null   object \n",
      " 11  dropoff_zone     6388 non-null   object \n",
      " 12  pickup_borough   6407 non-null   object \n",
      " 13  dropoff_borough  6388 non-null   object \n",
      "dtypes: float64(5), int64(1), object(8)\n",
      "memory usage: 703.7+ KB\n"
     ]
    }
   ],
   "source": [
    "# Look at data info (missing values, size, column names, data types, etc.)\n",
    "taxis.info()"
   ]
  },
  {
   "cell_type": "markdown",
   "metadata": {},
   "source": [
    "It is often helpful to check the Dtypes. Quantitative columns should be stored as ints or floats so that we can perform numerical operations on them.\n",
    "\n",
    "Note that there are 6433 values in the first eight columns; some of the others have missing values. Let's take a closer look at some of the rows with null values."
   ]
  },
  {
   "cell_type": "code",
   "execution_count": 4,
   "metadata": {},
   "outputs": [
    {
     "data": {
      "text/plain": [
       "pickup              0\n",
       "dropoff             0\n",
       "passengers          0\n",
       "distance            0\n",
       "fare                0\n",
       "tip                 0\n",
       "tolls               0\n",
       "total               0\n",
       "color               0\n",
       "payment            44\n",
       "pickup_zone        26\n",
       "dropoff_zone       45\n",
       "pickup_borough     26\n",
       "dropoff_borough    45\n",
       "dtype: int64"
      ]
     },
     "execution_count": 4,
     "metadata": {},
     "output_type": "execute_result"
    }
   ],
   "source": [
    "# How many null values in each column?\n",
    "taxis.isnull().sum()"
   ]
  },
  {
   "cell_type": "code",
   "execution_count": 5,
   "metadata": {},
   "outputs": [
    {
     "data": {
      "text/html": [
       "<div>\n",
       "<style scoped>\n",
       "    .dataframe tbody tr th:only-of-type {\n",
       "        vertical-align: middle;\n",
       "    }\n",
       "\n",
       "    .dataframe tbody tr th {\n",
       "        vertical-align: top;\n",
       "    }\n",
       "\n",
       "    .dataframe thead th {\n",
       "        text-align: right;\n",
       "    }\n",
       "</style>\n",
       "<table border=\"1\" class=\"dataframe\">\n",
       "  <thead>\n",
       "    <tr style=\"text-align: right;\">\n",
       "      <th></th>\n",
       "      <th>pickup</th>\n",
       "      <th>dropoff</th>\n",
       "      <th>passengers</th>\n",
       "      <th>distance</th>\n",
       "      <th>fare</th>\n",
       "      <th>tip</th>\n",
       "      <th>tolls</th>\n",
       "      <th>total</th>\n",
       "      <th>color</th>\n",
       "      <th>payment</th>\n",
       "      <th>pickup_zone</th>\n",
       "      <th>dropoff_zone</th>\n",
       "      <th>pickup_borough</th>\n",
       "      <th>dropoff_borough</th>\n",
       "    </tr>\n",
       "  </thead>\n",
       "  <tbody>\n",
       "    <tr>\n",
       "      <th>42</th>\n",
       "      <td>2019-03-30 23:59:14</td>\n",
       "      <td>2019-03-30 23:59:17</td>\n",
       "      <td>1</td>\n",
       "      <td>0.00</td>\n",
       "      <td>80.0</td>\n",
       "      <td>20.08</td>\n",
       "      <td>0.0</td>\n",
       "      <td>100.38</td>\n",
       "      <td>yellow</td>\n",
       "      <td>credit card</td>\n",
       "      <td>NaN</td>\n",
       "      <td>NaN</td>\n",
       "      <td>NaN</td>\n",
       "      <td>NaN</td>\n",
       "    </tr>\n",
       "    <tr>\n",
       "      <th>622</th>\n",
       "      <td>2019-03-12 19:52:36</td>\n",
       "      <td>2019-03-12 19:52:55</td>\n",
       "      <td>3</td>\n",
       "      <td>0.00</td>\n",
       "      <td>120.0</td>\n",
       "      <td>33.20</td>\n",
       "      <td>12.5</td>\n",
       "      <td>166.00</td>\n",
       "      <td>yellow</td>\n",
       "      <td>credit card</td>\n",
       "      <td>NaN</td>\n",
       "      <td>NaN</td>\n",
       "      <td>NaN</td>\n",
       "      <td>NaN</td>\n",
       "    </tr>\n",
       "    <tr>\n",
       "      <th>711</th>\n",
       "      <td>2019-03-21 17:39:50</td>\n",
       "      <td>2019-03-21 18:12:54</td>\n",
       "      <td>2</td>\n",
       "      <td>1.74</td>\n",
       "      <td>17.0</td>\n",
       "      <td>4.26</td>\n",
       "      <td>0.0</td>\n",
       "      <td>25.56</td>\n",
       "      <td>yellow</td>\n",
       "      <td>credit card</td>\n",
       "      <td>Midtown East</td>\n",
       "      <td>NaN</td>\n",
       "      <td>Manhattan</td>\n",
       "      <td>NaN</td>\n",
       "    </tr>\n",
       "    <tr>\n",
       "      <th>739</th>\n",
       "      <td>2019-03-14 00:09:17</td>\n",
       "      <td>2019-03-14 00:09:21</td>\n",
       "      <td>1</td>\n",
       "      <td>0.03</td>\n",
       "      <td>2.5</td>\n",
       "      <td>0.00</td>\n",
       "      <td>0.0</td>\n",
       "      <td>3.80</td>\n",
       "      <td>yellow</td>\n",
       "      <td>cash</td>\n",
       "      <td>Upper East Side South</td>\n",
       "      <td>NaN</td>\n",
       "      <td>Manhattan</td>\n",
       "      <td>NaN</td>\n",
       "    </tr>\n",
       "    <tr>\n",
       "      <th>970</th>\n",
       "      <td>2019-03-29 00:02:00</td>\n",
       "      <td>2019-03-29 00:02:05</td>\n",
       "      <td>2</td>\n",
       "      <td>0.00</td>\n",
       "      <td>45.0</td>\n",
       "      <td>5.00</td>\n",
       "      <td>0.0</td>\n",
       "      <td>50.30</td>\n",
       "      <td>yellow</td>\n",
       "      <td>credit card</td>\n",
       "      <td>NaN</td>\n",
       "      <td>NaN</td>\n",
       "      <td>NaN</td>\n",
       "      <td>NaN</td>\n",
       "    </tr>\n",
       "  </tbody>\n",
       "</table>\n",
       "</div>"
      ],
      "text/plain": [
       "                  pickup              dropoff  passengers  distance   fare  \\\n",
       "42   2019-03-30 23:59:14  2019-03-30 23:59:17           1      0.00   80.0   \n",
       "622  2019-03-12 19:52:36  2019-03-12 19:52:55           3      0.00  120.0   \n",
       "711  2019-03-21 17:39:50  2019-03-21 18:12:54           2      1.74   17.0   \n",
       "739  2019-03-14 00:09:17  2019-03-14 00:09:21           1      0.03    2.5   \n",
       "970  2019-03-29 00:02:00  2019-03-29 00:02:05           2      0.00   45.0   \n",
       "\n",
       "       tip  tolls   total   color      payment            pickup_zone  \\\n",
       "42   20.08    0.0  100.38  yellow  credit card                    NaN   \n",
       "622  33.20   12.5  166.00  yellow  credit card                    NaN   \n",
       "711   4.26    0.0   25.56  yellow  credit card           Midtown East   \n",
       "739   0.00    0.0    3.80  yellow         cash  Upper East Side South   \n",
       "970   5.00    0.0   50.30  yellow  credit card                    NaN   \n",
       "\n",
       "    dropoff_zone pickup_borough dropoff_borough  \n",
       "42           NaN            NaN             NaN  \n",
       "622          NaN            NaN             NaN  \n",
       "711          NaN      Manhattan             NaN  \n",
       "739          NaN      Manhattan             NaN  \n",
       "970          NaN            NaN             NaN  "
      ]
     },
     "execution_count": 5,
     "metadata": {},
     "output_type": "execute_result"
    }
   ],
   "source": [
    "# Print rows with null values in the dropoff_zone column\n",
    "# .head(5) subsets to the first 5 rows so we don't overwhelm ourselves\n",
    "taxis[taxis.dropoff_zone.isnull()].head(5)"
   ]
  },
  {
   "cell_type": "markdown",
   "metadata": {},
   "source": [
    "Note that:\n",
    "\n",
    "- All rows with missing pickup zones also have missing pickup boroughs (and the same is true for dropoffs). This makes sense and also aligns with the output above showing equal numbers of missing values in those pairs of columns\n",
    "- There are many rows where both pickup and dropoff locations are missing\n",
    "\n",
    "Best guess: Maybe these trips involve a pickup and/or dropoff outside of NYC. How could we investigate this? Maybe the distance traveled provides some clues."
   ]
  },
  {
   "cell_type": "markdown",
   "metadata": {},
   "source": [
    "<hr style=\"border:2px solid gray\"> </hr>\n",
    "\n",
    "#### YOU TRY\n",
    "\n",
    "**Print the rows where the payment method is missing. Do you have any theories as to why this data is missing for those rows?**"
   ]
  },
  {
   "cell_type": "code",
   "execution_count": 6,
   "metadata": {},
   "outputs": [
    {
     "name": "stdout",
     "output_type": "stream",
     "text": [
      "number of rows having null payments is 44\n"
     ]
    },
    {
     "data": {
      "text/html": [
       "<div>\n",
       "<style scoped>\n",
       "    .dataframe tbody tr th:only-of-type {\n",
       "        vertical-align: middle;\n",
       "    }\n",
       "\n",
       "    .dataframe tbody tr th {\n",
       "        vertical-align: top;\n",
       "    }\n",
       "\n",
       "    .dataframe thead th {\n",
       "        text-align: right;\n",
       "    }\n",
       "</style>\n",
       "<table border=\"1\" class=\"dataframe\">\n",
       "  <thead>\n",
       "    <tr style=\"text-align: right;\">\n",
       "      <th></th>\n",
       "      <th>pickup</th>\n",
       "      <th>dropoff</th>\n",
       "      <th>passengers</th>\n",
       "      <th>distance</th>\n",
       "      <th>fare</th>\n",
       "      <th>tip</th>\n",
       "      <th>tolls</th>\n",
       "      <th>total</th>\n",
       "      <th>color</th>\n",
       "      <th>payment</th>\n",
       "      <th>pickup_zone</th>\n",
       "      <th>dropoff_zone</th>\n",
       "      <th>pickup_borough</th>\n",
       "      <th>dropoff_borough</th>\n",
       "    </tr>\n",
       "  </thead>\n",
       "  <tbody>\n",
       "    <tr>\n",
       "      <th>7</th>\n",
       "      <td>2019-03-22 12:47:13</td>\n",
       "      <td>2019-03-22 12:58:17</td>\n",
       "      <td>0</td>\n",
       "      <td>1.4</td>\n",
       "      <td>8.5</td>\n",
       "      <td>0.0</td>\n",
       "      <td>0.0</td>\n",
       "      <td>11.8</td>\n",
       "      <td>yellow</td>\n",
       "      <td>NaN</td>\n",
       "      <td>Murray Hill</td>\n",
       "      <td>Flatiron</td>\n",
       "      <td>Manhattan</td>\n",
       "      <td>Manhattan</td>\n",
       "    </tr>\n",
       "    <tr>\n",
       "      <th>445</th>\n",
       "      <td>2019-03-19 06:57:14</td>\n",
       "      <td>2019-03-19 07:00:08</td>\n",
       "      <td>1</td>\n",
       "      <td>1.3</td>\n",
       "      <td>5.5</td>\n",
       "      <td>0.0</td>\n",
       "      <td>0.0</td>\n",
       "      <td>6.3</td>\n",
       "      <td>yellow</td>\n",
       "      <td>NaN</td>\n",
       "      <td>Boerum Hill</td>\n",
       "      <td>Columbia Street</td>\n",
       "      <td>Brooklyn</td>\n",
       "      <td>Brooklyn</td>\n",
       "    </tr>\n",
       "    <tr>\n",
       "      <th>491</th>\n",
       "      <td>2019-03-07 07:11:33</td>\n",
       "      <td>2019-03-07 07:11:39</td>\n",
       "      <td>1</td>\n",
       "      <td>1.6</td>\n",
       "      <td>2.5</td>\n",
       "      <td>0.0</td>\n",
       "      <td>0.0</td>\n",
       "      <td>5.8</td>\n",
       "      <td>yellow</td>\n",
       "      <td>NaN</td>\n",
       "      <td>Murray Hill</td>\n",
       "      <td>Murray Hill</td>\n",
       "      <td>Manhattan</td>\n",
       "      <td>Manhattan</td>\n",
       "    </tr>\n",
       "    <tr>\n",
       "      <th>545</th>\n",
       "      <td>2019-03-27 11:03:43</td>\n",
       "      <td>2019-03-27 11:14:34</td>\n",
       "      <td>1</td>\n",
       "      <td>4.2</td>\n",
       "      <td>15.0</td>\n",
       "      <td>0.0</td>\n",
       "      <td>0.0</td>\n",
       "      <td>15.8</td>\n",
       "      <td>yellow</td>\n",
       "      <td>NaN</td>\n",
       "      <td>LaGuardia Airport</td>\n",
       "      <td>Forest Hills</td>\n",
       "      <td>Queens</td>\n",
       "      <td>Queens</td>\n",
       "    </tr>\n",
       "    <tr>\n",
       "      <th>621</th>\n",
       "      <td>2019-03-15 17:16:35</td>\n",
       "      <td>2019-03-15 17:25:01</td>\n",
       "      <td>1</td>\n",
       "      <td>1.3</td>\n",
       "      <td>7.5</td>\n",
       "      <td>0.0</td>\n",
       "      <td>0.0</td>\n",
       "      <td>11.8</td>\n",
       "      <td>yellow</td>\n",
       "      <td>NaN</td>\n",
       "      <td>Upper East Side North</td>\n",
       "      <td>Upper East Side South</td>\n",
       "      <td>Manhattan</td>\n",
       "      <td>Manhattan</td>\n",
       "    </tr>\n",
       "  </tbody>\n",
       "</table>\n",
       "</div>"
      ],
      "text/plain": [
       "                  pickup              dropoff  passengers  distance  fare  \\\n",
       "7    2019-03-22 12:47:13  2019-03-22 12:58:17           0       1.4   8.5   \n",
       "445  2019-03-19 06:57:14  2019-03-19 07:00:08           1       1.3   5.5   \n",
       "491  2019-03-07 07:11:33  2019-03-07 07:11:39           1       1.6   2.5   \n",
       "545  2019-03-27 11:03:43  2019-03-27 11:14:34           1       4.2  15.0   \n",
       "621  2019-03-15 17:16:35  2019-03-15 17:25:01           1       1.3   7.5   \n",
       "\n",
       "     tip  tolls  total   color payment            pickup_zone  \\\n",
       "7    0.0    0.0   11.8  yellow     NaN            Murray Hill   \n",
       "445  0.0    0.0    6.3  yellow     NaN            Boerum Hill   \n",
       "491  0.0    0.0    5.8  yellow     NaN            Murray Hill   \n",
       "545  0.0    0.0   15.8  yellow     NaN      LaGuardia Airport   \n",
       "621  0.0    0.0   11.8  yellow     NaN  Upper East Side North   \n",
       "\n",
       "              dropoff_zone pickup_borough dropoff_borough  \n",
       "7                 Flatiron      Manhattan       Manhattan  \n",
       "445        Columbia Street       Brooklyn        Brooklyn  \n",
       "491            Murray Hill      Manhattan       Manhattan  \n",
       "545           Forest Hills         Queens          Queens  \n",
       "621  Upper East Side South      Manhattan       Manhattan  "
      ]
     },
     "execution_count": 6,
     "metadata": {},
     "output_type": "execute_result"
    }
   ],
   "source": [
    "# Print rows with null values in the payment column\n",
    "###\n",
    "null_payments = taxis[taxis['payment'].isnull()]\n",
    "print(f\"number of rows having null payments is {null_payments.shape[0]}\")\n",
    "null_payments.head()\n",
    "###\n"
   ]
  },
  {
   "cell_type": "markdown",
   "metadata": {},
   "source": [
    "<hr style=\"border:2px solid gray\"> </hr>"
   ]
  },
  {
   "cell_type": "markdown",
   "metadata": {},
   "source": [
    "Next, we can use the `.describe()` method to get summary statistics for each column.\n",
    "\n",
    "[More information on `.describe()`](https://www.w3resource.com/pandas/dataframe/dataframe-describe.php)"
   ]
  },
  {
   "cell_type": "code",
   "execution_count": 7,
   "metadata": {},
   "outputs": [
    {
     "data": {
      "text/html": [
       "<div>\n",
       "<style scoped>\n",
       "    .dataframe tbody tr th:only-of-type {\n",
       "        vertical-align: middle;\n",
       "    }\n",
       "\n",
       "    .dataframe tbody tr th {\n",
       "        vertical-align: top;\n",
       "    }\n",
       "\n",
       "    .dataframe thead th {\n",
       "        text-align: right;\n",
       "    }\n",
       "</style>\n",
       "<table border=\"1\" class=\"dataframe\">\n",
       "  <thead>\n",
       "    <tr style=\"text-align: right;\">\n",
       "      <th></th>\n",
       "      <th>count</th>\n",
       "      <th>unique</th>\n",
       "      <th>top</th>\n",
       "      <th>freq</th>\n",
       "      <th>mean</th>\n",
       "      <th>std</th>\n",
       "      <th>min</th>\n",
       "      <th>25%</th>\n",
       "      <th>50%</th>\n",
       "      <th>75%</th>\n",
       "      <th>max</th>\n",
       "    </tr>\n",
       "  </thead>\n",
       "  <tbody>\n",
       "    <tr>\n",
       "      <th>pickup</th>\n",
       "      <td>6433</td>\n",
       "      <td>6414</td>\n",
       "      <td>2019-03-13 10:57:06</td>\n",
       "      <td>2</td>\n",
       "      <td>NaN</td>\n",
       "      <td>NaN</td>\n",
       "      <td>NaN</td>\n",
       "      <td>NaN</td>\n",
       "      <td>NaN</td>\n",
       "      <td>NaN</td>\n",
       "      <td>NaN</td>\n",
       "    </tr>\n",
       "    <tr>\n",
       "      <th>dropoff</th>\n",
       "      <td>6433</td>\n",
       "      <td>6425</td>\n",
       "      <td>2019-03-04 18:08:13</td>\n",
       "      <td>2</td>\n",
       "      <td>NaN</td>\n",
       "      <td>NaN</td>\n",
       "      <td>NaN</td>\n",
       "      <td>NaN</td>\n",
       "      <td>NaN</td>\n",
       "      <td>NaN</td>\n",
       "      <td>NaN</td>\n",
       "    </tr>\n",
       "    <tr>\n",
       "      <th>passengers</th>\n",
       "      <td>6433.0</td>\n",
       "      <td>NaN</td>\n",
       "      <td>NaN</td>\n",
       "      <td>NaN</td>\n",
       "      <td>1.539251</td>\n",
       "      <td>1.203768</td>\n",
       "      <td>0.0</td>\n",
       "      <td>1.0</td>\n",
       "      <td>1.0</td>\n",
       "      <td>2.0</td>\n",
       "      <td>6.0</td>\n",
       "    </tr>\n",
       "    <tr>\n",
       "      <th>distance</th>\n",
       "      <td>6433.0</td>\n",
       "      <td>NaN</td>\n",
       "      <td>NaN</td>\n",
       "      <td>NaN</td>\n",
       "      <td>3.024617</td>\n",
       "      <td>3.827867</td>\n",
       "      <td>0.0</td>\n",
       "      <td>0.98</td>\n",
       "      <td>1.64</td>\n",
       "      <td>3.21</td>\n",
       "      <td>36.7</td>\n",
       "    </tr>\n",
       "    <tr>\n",
       "      <th>fare</th>\n",
       "      <td>6433.0</td>\n",
       "      <td>NaN</td>\n",
       "      <td>NaN</td>\n",
       "      <td>NaN</td>\n",
       "      <td>13.091073</td>\n",
       "      <td>11.551804</td>\n",
       "      <td>1.0</td>\n",
       "      <td>6.5</td>\n",
       "      <td>9.5</td>\n",
       "      <td>15.0</td>\n",
       "      <td>150.0</td>\n",
       "    </tr>\n",
       "    <tr>\n",
       "      <th>tip</th>\n",
       "      <td>6433.0</td>\n",
       "      <td>NaN</td>\n",
       "      <td>NaN</td>\n",
       "      <td>NaN</td>\n",
       "      <td>1.97922</td>\n",
       "      <td>2.44856</td>\n",
       "      <td>0.0</td>\n",
       "      <td>0.0</td>\n",
       "      <td>1.7</td>\n",
       "      <td>2.8</td>\n",
       "      <td>33.2</td>\n",
       "    </tr>\n",
       "    <tr>\n",
       "      <th>tolls</th>\n",
       "      <td>6433.0</td>\n",
       "      <td>NaN</td>\n",
       "      <td>NaN</td>\n",
       "      <td>NaN</td>\n",
       "      <td>0.325273</td>\n",
       "      <td>1.415267</td>\n",
       "      <td>0.0</td>\n",
       "      <td>0.0</td>\n",
       "      <td>0.0</td>\n",
       "      <td>0.0</td>\n",
       "      <td>24.02</td>\n",
       "    </tr>\n",
       "    <tr>\n",
       "      <th>total</th>\n",
       "      <td>6433.0</td>\n",
       "      <td>NaN</td>\n",
       "      <td>NaN</td>\n",
       "      <td>NaN</td>\n",
       "      <td>18.517794</td>\n",
       "      <td>13.81557</td>\n",
       "      <td>1.3</td>\n",
       "      <td>10.8</td>\n",
       "      <td>14.16</td>\n",
       "      <td>20.3</td>\n",
       "      <td>174.82</td>\n",
       "    </tr>\n",
       "    <tr>\n",
       "      <th>color</th>\n",
       "      <td>6433</td>\n",
       "      <td>2</td>\n",
       "      <td>yellow</td>\n",
       "      <td>5451</td>\n",
       "      <td>NaN</td>\n",
       "      <td>NaN</td>\n",
       "      <td>NaN</td>\n",
       "      <td>NaN</td>\n",
       "      <td>NaN</td>\n",
       "      <td>NaN</td>\n",
       "      <td>NaN</td>\n",
       "    </tr>\n",
       "    <tr>\n",
       "      <th>payment</th>\n",
       "      <td>6389</td>\n",
       "      <td>2</td>\n",
       "      <td>credit card</td>\n",
       "      <td>4577</td>\n",
       "      <td>NaN</td>\n",
       "      <td>NaN</td>\n",
       "      <td>NaN</td>\n",
       "      <td>NaN</td>\n",
       "      <td>NaN</td>\n",
       "      <td>NaN</td>\n",
       "      <td>NaN</td>\n",
       "    </tr>\n",
       "    <tr>\n",
       "      <th>pickup_zone</th>\n",
       "      <td>6407</td>\n",
       "      <td>194</td>\n",
       "      <td>Midtown Center</td>\n",
       "      <td>230</td>\n",
       "      <td>NaN</td>\n",
       "      <td>NaN</td>\n",
       "      <td>NaN</td>\n",
       "      <td>NaN</td>\n",
       "      <td>NaN</td>\n",
       "      <td>NaN</td>\n",
       "      <td>NaN</td>\n",
       "    </tr>\n",
       "    <tr>\n",
       "      <th>dropoff_zone</th>\n",
       "      <td>6388</td>\n",
       "      <td>203</td>\n",
       "      <td>Upper East Side North</td>\n",
       "      <td>245</td>\n",
       "      <td>NaN</td>\n",
       "      <td>NaN</td>\n",
       "      <td>NaN</td>\n",
       "      <td>NaN</td>\n",
       "      <td>NaN</td>\n",
       "      <td>NaN</td>\n",
       "      <td>NaN</td>\n",
       "    </tr>\n",
       "    <tr>\n",
       "      <th>pickup_borough</th>\n",
       "      <td>6407</td>\n",
       "      <td>4</td>\n",
       "      <td>Manhattan</td>\n",
       "      <td>5268</td>\n",
       "      <td>NaN</td>\n",
       "      <td>NaN</td>\n",
       "      <td>NaN</td>\n",
       "      <td>NaN</td>\n",
       "      <td>NaN</td>\n",
       "      <td>NaN</td>\n",
       "      <td>NaN</td>\n",
       "    </tr>\n",
       "    <tr>\n",
       "      <th>dropoff_borough</th>\n",
       "      <td>6388</td>\n",
       "      <td>5</td>\n",
       "      <td>Manhattan</td>\n",
       "      <td>5206</td>\n",
       "      <td>NaN</td>\n",
       "      <td>NaN</td>\n",
       "      <td>NaN</td>\n",
       "      <td>NaN</td>\n",
       "      <td>NaN</td>\n",
       "      <td>NaN</td>\n",
       "      <td>NaN</td>\n",
       "    </tr>\n",
       "  </tbody>\n",
       "</table>\n",
       "</div>"
      ],
      "text/plain": [
       "                  count unique                    top  freq       mean  \\\n",
       "pickup             6433   6414    2019-03-13 10:57:06     2        NaN   \n",
       "dropoff            6433   6425    2019-03-04 18:08:13     2        NaN   \n",
       "passengers       6433.0    NaN                    NaN   NaN   1.539251   \n",
       "distance         6433.0    NaN                    NaN   NaN   3.024617   \n",
       "fare             6433.0    NaN                    NaN   NaN  13.091073   \n",
       "tip              6433.0    NaN                    NaN   NaN    1.97922   \n",
       "tolls            6433.0    NaN                    NaN   NaN   0.325273   \n",
       "total            6433.0    NaN                    NaN   NaN  18.517794   \n",
       "color              6433      2                 yellow  5451        NaN   \n",
       "payment            6389      2            credit card  4577        NaN   \n",
       "pickup_zone        6407    194         Midtown Center   230        NaN   \n",
       "dropoff_zone       6388    203  Upper East Side North   245        NaN   \n",
       "pickup_borough     6407      4              Manhattan  5268        NaN   \n",
       "dropoff_borough    6388      5              Manhattan  5206        NaN   \n",
       "\n",
       "                       std  min   25%    50%   75%     max  \n",
       "pickup                 NaN  NaN   NaN    NaN   NaN     NaN  \n",
       "dropoff                NaN  NaN   NaN    NaN   NaN     NaN  \n",
       "passengers        1.203768  0.0   1.0    1.0   2.0     6.0  \n",
       "distance          3.827867  0.0  0.98   1.64  3.21    36.7  \n",
       "fare             11.551804  1.0   6.5    9.5  15.0   150.0  \n",
       "tip                2.44856  0.0   0.0    1.7   2.8    33.2  \n",
       "tolls             1.415267  0.0   0.0    0.0   0.0   24.02  \n",
       "total             13.81557  1.3  10.8  14.16  20.3  174.82  \n",
       "color                  NaN  NaN   NaN    NaN   NaN     NaN  \n",
       "payment                NaN  NaN   NaN    NaN   NaN     NaN  \n",
       "pickup_zone            NaN  NaN   NaN    NaN   NaN     NaN  \n",
       "dropoff_zone           NaN  NaN   NaN    NaN   NaN     NaN  \n",
       "pickup_borough         NaN  NaN   NaN    NaN   NaN     NaN  \n",
       "dropoff_borough        NaN  NaN   NaN    NaN   NaN     NaN  "
      ]
     },
     "execution_count": 7,
     "metadata": {},
     "output_type": "execute_result"
    }
   ],
   "source": [
    "# Use the .describe() method to print summary statistics for all columns of taxis\n",
    "# Note: include = 'all' indicates all columns, including categorical ones\n",
    "taxis.describe(include = 'all').T"
   ]
  },
  {
   "cell_type": "markdown",
   "metadata": {},
   "source": [
    "Note that different summary statistics are calculated for the numerical columns compared to the columns that are stored as strings."
   ]
  },
  {
   "cell_type": "markdown",
   "metadata": {},
   "source": [
    "### Summary Statistics for Quantitative Data\n",
    "Let's take a deep dive into some of the quantitative variables in our dataset. For quantitative data, we often want to describe central tendency (typical values) and spread (variation). For example, we could use the mean or median to summarize a typical taxi fare."
   ]
  },
  {
   "cell_type": "code",
   "execution_count": 8,
   "metadata": {},
   "outputs": [
    {
     "name": "stdout",
     "output_type": "stream",
     "text": [
      "median fare:  9.5\n",
      "mean fare:  13.091072594434944\n"
     ]
    }
   ],
   "source": [
    "# Calculate median fare\n",
    "median_fare = taxis.fare.median()\n",
    "print('median fare: ', median_fare)\n",
    "\n",
    "# Calculate mean (average) fare\n",
    "mean_fare = taxis.fare.mean()\n",
    "print('mean fare: ', mean_fare)"
   ]
  },
  {
   "cell_type": "markdown",
   "metadata": {},
   "source": [
    "<hr style=\"border:2px solid gray\"> </hr>\n",
    "\n",
    "#### YOU TRY\n",
    "\n",
    "**Your turn! Calculate and print the standard deviation of fares below. Check your result against the output from `.describe()` to ensure that you calculated it correctly.**\n",
    "\n",
    "Feel free to reference this [resource on pandas methods for descriptive statistics](https://www.tutorialspoint.com/python_pandas/python_pandas_descriptive_statistics.htm) if you don't know the function to calculate standard deviation already!"
   ]
  },
  {
   "cell_type": "code",
   "execution_count": 9,
   "metadata": {},
   "outputs": [
    {
     "data": {
      "text/plain": [
       "11.550906376376895"
      ]
     },
     "execution_count": 9,
     "metadata": {},
     "output_type": "execute_result"
    }
   ],
   "source": [
    "# Calculate standard deviation of fare\n",
    "###\n",
    "n = taxis['fare'].shape[0]   \n",
    "bracket = pow(taxis[\"fare\"]-taxis[\"fare\"].mean(),2)\n",
    "summation = np.sum(bracket)\n",
    "standard_deviation = np.sqrt((1/n) * summation)\n",
    "standard_deviation\n"
   ]
  },
  {
   "cell_type": "markdown",
   "metadata": {},
   "source": [
    "<hr style=\"border:2px solid gray\"> </hr>"
   ]
  },
  {
   "cell_type": "markdown",
   "metadata": {},
   "source": [
    "### Visualizing a Distribution of Quantitative Data\n",
    "We may also want to do visualize the distribution of fares using a plot. We have some evidence from the difference between the mean and median that fares will be right skewed."
   ]
  },
  {
   "cell_type": "code",
   "execution_count": 10,
   "metadata": {},
   "outputs": [
    {
     "data": {
      "image/png": "[encoded data removed]",
      "text/plain": [
       "<Figure size 432x288 with 1 Axes>"
      ]
     },
     "metadata": {
      "needs_background": "light"
     },
     "output_type": "display_data"
    }
   ],
   "source": [
    "# Visualize the distribution of fares with a histogram\n",
    "plt.hist(x = 'fare', data = taxis)\n",
    "plt.show()"
   ]
  },
  {
   "cell_type": "markdown",
   "metadata": {},
   "source": [
    "To get a more detailed view, we could either change the number of bins in the histogram or use a different visualization, such as a KDE plot, violin plot, or box plot."
   ]
  },
  {
   "cell_type": "code",
   "execution_count": 11,
   "metadata": {},
   "outputs": [
    {
     "data": {
      "image/png": "[encoded data removed]",
      "text/plain": [
       "<Figure size 432x288 with 1 Axes>"
      ]
     },
     "metadata": {
      "needs_background": "light"
     },
     "output_type": "display_data"
    }
   ],
   "source": [
    "# Increase the number of bins to 20\n",
    "plt.hist(x = 'fare', data = taxis, bins = 20)\n",
    "plt.show()"
   ]
  },
  {
   "cell_type": "code",
   "execution_count": 12,
   "metadata": {},
   "outputs": [
    {
     "data": {
      "image/png": "[encoded data removed]",
      "text/plain": [
       "<Figure size 432x288 with 1 Axes>"
      ]
     },
     "metadata": {
      "needs_background": "light"
     },
     "output_type": "display_data"
    }
   ],
   "source": [
    "# Visualize the distribution of fares with a KDE plot\n",
    "sns.kdeplot(x = 'fare', data = taxis)\n",
    "plt.show()"
   ]
  },
  {
   "cell_type": "code",
   "execution_count": 13,
   "metadata": {},
   "outputs": [
    {
     "data": {
      "image/png": "[encoded data removed]",
      "text/plain": [
       "<Figure size 432x288 with 1 Axes>"
      ]
     },
     "metadata": {
      "needs_background": "light"
     },
     "output_type": "display_data"
    }
   ],
   "source": [
    "# Visualize the distribution of fares with a violin plot\n",
    "sns.violinplot(x = 'fare', data = taxis)\n",
    "plt.show()"
   ]
  },
  {
   "cell_type": "markdown",
   "metadata": {},
   "source": [
    "Based on all of these plots, we see that fares tend to be between 0-40 dollars, with some trips costing up to around 160 dollars."
   ]
  },
  {
   "cell_type": "markdown",
   "metadata": {},
   "source": [
    "<hr style=\"border:2px solid gray\"> </hr>\n",
    "\n",
    "#### YOU TRY\n",
    "\n",
    "**Use the `sns.boxplot()` function below to make a box plot of age.**\n",
    "\n",
    "Hint: the syntax is exactly the same as `sns.violinplot()`, but you'll use the `sns.boxplot()` function instead."
   ]
  },
  {
   "cell_type": "code",
   "execution_count": 14,
   "metadata": {
    "collapsed": true
   },
   "outputs": [],
   "source": [
    "# Visualize the distribution of age with a box plot\n",
    "###\n",
    "# Where is age column in taxis dataset ?\n",
    "###\n"
   ]
  },
  {
   "cell_type": "markdown",
   "metadata": {},
   "source": [
    "<hr style=\"border:2px solid gray\"> </hr>"
   ]
  },
  {
   "cell_type": "markdown",
   "metadata": {},
   "source": [
    "### Inspecting Outliers\n",
    "Based on the distribution plots, we see that there are some outliers in the fare column. If we want to probe further, we can take a look at those rows."
   ]
  },
  {
   "cell_type": "code",
   "execution_count": 15,
   "metadata": {},
   "outputs": [
    {
     "data": {
      "text/html": [
       "<div>\n",
       "<style scoped>\n",
       "    .dataframe tbody tr th:only-of-type {\n",
       "        vertical-align: middle;\n",
       "    }\n",
       "\n",
       "    .dataframe tbody tr th {\n",
       "        vertical-align: top;\n",
       "    }\n",
       "\n",
       "    .dataframe thead th {\n",
       "        text-align: right;\n",
       "    }\n",
       "</style>\n",
       "<table border=\"1\" class=\"dataframe\">\n",
       "  <thead>\n",
       "    <tr style=\"text-align: right;\">\n",
       "      <th></th>\n",
       "      <th>pickup</th>\n",
       "      <th>dropoff</th>\n",
       "      <th>passengers</th>\n",
       "      <th>distance</th>\n",
       "      <th>fare</th>\n",
       "      <th>tip</th>\n",
       "      <th>tolls</th>\n",
       "      <th>total</th>\n",
       "      <th>color</th>\n",
       "      <th>payment</th>\n",
       "      <th>pickup_zone</th>\n",
       "      <th>dropoff_zone</th>\n",
       "      <th>pickup_borough</th>\n",
       "      <th>dropoff_borough</th>\n",
       "    </tr>\n",
       "  </thead>\n",
       "  <tbody>\n",
       "    <tr>\n",
       "      <th>622</th>\n",
       "      <td>2019-03-12 19:52:36</td>\n",
       "      <td>2019-03-12 19:52:55</td>\n",
       "      <td>3</td>\n",
       "      <td>0.00</td>\n",
       "      <td>120.0</td>\n",
       "      <td>33.20</td>\n",
       "      <td>12.50</td>\n",
       "      <td>166.00</td>\n",
       "      <td>yellow</td>\n",
       "      <td>credit card</td>\n",
       "      <td>NaN</td>\n",
       "      <td>NaN</td>\n",
       "      <td>NaN</td>\n",
       "      <td>NaN</td>\n",
       "    </tr>\n",
       "    <tr>\n",
       "      <th>2231</th>\n",
       "      <td>2019-03-11 10:17:31</td>\n",
       "      <td>2019-03-11 11:03:55</td>\n",
       "      <td>1</td>\n",
       "      <td>26.35</td>\n",
       "      <td>130.0</td>\n",
       "      <td>0.00</td>\n",
       "      <td>5.76</td>\n",
       "      <td>136.56</td>\n",
       "      <td>yellow</td>\n",
       "      <td>cash</td>\n",
       "      <td>East Harlem North</td>\n",
       "      <td>NaN</td>\n",
       "      <td>Manhattan</td>\n",
       "      <td>NaN</td>\n",
       "    </tr>\n",
       "    <tr>\n",
       "      <th>3644</th>\n",
       "      <td>2019-03-19 23:30:50</td>\n",
       "      <td>2019-03-19 23:32:33</td>\n",
       "      <td>2</td>\n",
       "      <td>0.00</td>\n",
       "      <td>103.0</td>\n",
       "      <td>20.65</td>\n",
       "      <td>0.00</td>\n",
       "      <td>123.95</td>\n",
       "      <td>yellow</td>\n",
       "      <td>credit card</td>\n",
       "      <td>NaN</td>\n",
       "      <td>NaN</td>\n",
       "      <td>NaN</td>\n",
       "      <td>NaN</td>\n",
       "    </tr>\n",
       "    <tr>\n",
       "      <th>4050</th>\n",
       "      <td>2019-03-13 14:05:19</td>\n",
       "      <td>2019-03-13 15:01:16</td>\n",
       "      <td>6</td>\n",
       "      <td>33.76</td>\n",
       "      <td>143.5</td>\n",
       "      <td>0.00</td>\n",
       "      <td>0.00</td>\n",
       "      <td>144.30</td>\n",
       "      <td>yellow</td>\n",
       "      <td>cash</td>\n",
       "      <td>LaGuardia Airport</td>\n",
       "      <td>NaN</td>\n",
       "      <td>Queens</td>\n",
       "      <td>NaN</td>\n",
       "    </tr>\n",
       "    <tr>\n",
       "      <th>5364</th>\n",
       "      <td>2019-03-17 16:59:17</td>\n",
       "      <td>2019-03-17 18:04:08</td>\n",
       "      <td>2</td>\n",
       "      <td>36.70</td>\n",
       "      <td>150.0</td>\n",
       "      <td>0.00</td>\n",
       "      <td>24.02</td>\n",
       "      <td>174.82</td>\n",
       "      <td>yellow</td>\n",
       "      <td>cash</td>\n",
       "      <td>JFK Airport</td>\n",
       "      <td>JFK Airport</td>\n",
       "      <td>Queens</td>\n",
       "      <td>Queens</td>\n",
       "    </tr>\n",
       "    <tr>\n",
       "      <th>5648</th>\n",
       "      <td>2019-03-19 14:21:35</td>\n",
       "      <td>2019-03-19 15:51:28</td>\n",
       "      <td>2</td>\n",
       "      <td>33.46</td>\n",
       "      <td>150.0</td>\n",
       "      <td>0.00</td>\n",
       "      <td>18.90</td>\n",
       "      <td>169.70</td>\n",
       "      <td>green</td>\n",
       "      <td>cash</td>\n",
       "      <td>East Flushing</td>\n",
       "      <td>NaN</td>\n",
       "      <td>Queens</td>\n",
       "      <td>NaN</td>\n",
       "    </tr>\n",
       "  </tbody>\n",
       "</table>\n",
       "</div>"
      ],
      "text/plain": [
       "                   pickup              dropoff  passengers  distance   fare  \\\n",
       "622   2019-03-12 19:52:36  2019-03-12 19:52:55           3      0.00  120.0   \n",
       "2231  2019-03-11 10:17:31  2019-03-11 11:03:55           1     26.35  130.0   \n",
       "3644  2019-03-19 23:30:50  2019-03-19 23:32:33           2      0.00  103.0   \n",
       "4050  2019-03-13 14:05:19  2019-03-13 15:01:16           6     33.76  143.5   \n",
       "5364  2019-03-17 16:59:17  2019-03-17 18:04:08           2     36.70  150.0   \n",
       "5648  2019-03-19 14:21:35  2019-03-19 15:51:28           2     33.46  150.0   \n",
       "\n",
       "        tip  tolls   total   color      payment        pickup_zone  \\\n",
       "622   33.20  12.50  166.00  yellow  credit card                NaN   \n",
       "2231   0.00   5.76  136.56  yellow         cash  East Harlem North   \n",
       "3644  20.65   0.00  123.95  yellow  credit card                NaN   \n",
       "4050   0.00   0.00  144.30  yellow         cash  LaGuardia Airport   \n",
       "5364   0.00  24.02  174.82  yellow         cash        JFK Airport   \n",
       "5648   0.00  18.90  169.70   green         cash      East Flushing   \n",
       "\n",
       "     dropoff_zone pickup_borough dropoff_borough  \n",
       "622           NaN            NaN             NaN  \n",
       "2231          NaN      Manhattan             NaN  \n",
       "3644          NaN            NaN             NaN  \n",
       "4050          NaN         Queens             NaN  \n",
       "5364  JFK Airport         Queens          Queens  \n",
       "5648          NaN         Queens             NaN  "
      ]
     },
     "execution_count": 15,
     "metadata": {},
     "output_type": "execute_result"
    }
   ],
   "source": [
    "# Print rows where fare is greater than 100\n",
    "taxis[taxis.fare > 100]"
   ]
  },
  {
   "cell_type": "markdown",
   "metadata": {},
   "source": [
    "Many of the highest fare trips seem to have missing dropoff or pickup locations. Interestingly, there's one trip that picked up and dropped off at JFK, but traveled 36.7 miles in between!"
   ]
  },
  {
   "cell_type": "markdown",
   "metadata": {},
   "source": [
    "### Empirical Cumulative Distribution Function (ECDF)\n",
    "Another way to inspect the distribution of fares is by using an empirical cumulative distribution function. This allows us to estimate the percentiles very easily."
   ]
  },
  {
   "cell_type": "code",
   "execution_count": 16,
   "metadata": {},
   "outputs": [
    {
     "data": {
      "image/png": "[encoded data removed]",
      "text/plain": [
       "<Figure size 432x288 with 1 Axes>"
      ]
     },
     "metadata": {
      "needs_background": "light"
     },
     "output_type": "display_data"
    }
   ],
   "source": [
    "sns.ecdfplot(x='fare', data = taxis)\n",
    "plt.axhline(0.6, color='red', linestyle = '--')\n",
    "plt.axvline(11, color='red', linestyle = '--')\n",
    "plt.xlim(0,60)\n",
    "plt.show()"
   ]
  },
  {
   "cell_type": "markdown",
   "metadata": {},
   "source": [
    "For example, the red dotted lines show that about 60% of fares are less than 11 dollars. (The 60th percentile of fares is 11 dollars)."
   ]
  },
  {
   "cell_type": "markdown",
   "metadata": {},
   "source": [
    "<hr style=\"border:2px solid gray\"> </hr>\n",
    "\n",
    "#### YOU TRY\n",
    "\n",
    "**Estimate the 80th percentile for fares (in other words, 80% of fares are below what value?). To help you estimate, you may want to copy and edit the code for the above plot to move the two red dotted lines.**"
   ]
  },
  {
   "cell_type": "code",
   "execution_count": 17,
   "metadata": {},
   "outputs": [
    {
     "data": {
      "image/png": "[encoded data removed]",
      "text/plain": [
       "<Figure size 432x288 with 1 Axes>"
      ]
     },
     "metadata": {
      "needs_background": "light"
     },
     "output_type": "display_data"
    }
   ],
   "source": [
    "# YOUR EDITED PLOTTING CODE GOES HERE\n",
    "###\n",
    "sns.ecdfplot(x='fare', data = taxis)\n",
    "plt.axhline(0.8, color='red', linestyle = '--')\n",
    "plt.axvline(17, color='red', linestyle = '--')\n",
    "plt.xlim(0,60)\n",
    "plt.show()\n",
    "###\n"
   ]
  },
  {
   "cell_type": "code",
   "execution_count": 74,
   "metadata": {},
   "outputs": [
    {
     "data": {
      "text/plain": [
       "17"
      ]
     },
     "execution_count": 74,
     "metadata": {},
     "output_type": "execute_result"
    }
   ],
   "source": [
    "# YOUR ESTIMATE OF THE 80TH PERCENTILE GOES HERE\n",
    "###\n",
    "percentile_80 = 17\n",
    "percentile_80\n",
    "###\n"
   ]
  },
  {
   "cell_type": "markdown",
   "metadata": {},
   "source": [
    "<hr style=\"border:2px solid gray\"> </hr>"
   ]
  },
  {
   "cell_type": "markdown",
   "metadata": {},
   "source": [
    "### Summary Statistics and Data Visualization for Categorical Data\n",
    "For categorical variables, we'll need different summary statistics and data visualizations to understand the distribution of observations. For example, we may want to calculate the number or proportion of observations in each category."
   ]
  },
  {
   "cell_type": "code",
   "execution_count": 19,
   "metadata": {},
   "outputs": [
    {
     "data": {
      "text/plain": [
       "Midtown Center                  230\n",
       "Upper East Side South           211\n",
       "Penn Station/Madison Sq West    210\n",
       "Clinton East                    208\n",
       "Midtown East                    198\n",
       "                               ... \n",
       "Dyker Heights                     1\n",
       "Queens Village                    1\n",
       "Pelham Parkway                    1\n",
       "Hunts Point                       1\n",
       "Hillcrest/Pomonok                 1\n",
       "Name: pickup_zone, Length: 195, dtype: int64"
      ]
     },
     "execution_count": 19,
     "metadata": {},
     "output_type": "execute_result"
    }
   ],
   "source": [
    "# Calculate the number of trips starting in each pickup zone\n",
    "taxis.pickup_zone.value_counts(dropna=False)"
   ]
  },
  {
   "cell_type": "code",
   "execution_count": 20,
   "metadata": {},
   "outputs": [
    {
     "data": {
      "text/plain": [
       "Midtown Center                  0.035753\n",
       "Upper East Side South           0.032800\n",
       "Penn Station/Madison Sq West    0.032644\n",
       "Clinton East                    0.032333\n",
       "Midtown East                    0.030779\n",
       "                                  ...   \n",
       "Dyker Heights                   0.000155\n",
       "Queens Village                  0.000155\n",
       "Pelham Parkway                  0.000155\n",
       "Hunts Point                     0.000155\n",
       "Hillcrest/Pomonok               0.000155\n",
       "Name: pickup_zone, Length: 195, dtype: float64"
      ]
     },
     "execution_count": 20,
     "metadata": {},
     "output_type": "execute_result"
    }
   ],
   "source": [
    "# Calculate the proportion of trips starting in each pickup zone\n",
    "taxis.pickup_zone.value_counts(normalize=True, dropna=False)"
   ]
  },
  {
   "cell_type": "markdown",
   "metadata": {},
   "source": [
    "Note that there are a number of zones that only have 1 pick-up represented in the data. If we're going to visualize this, we may want to collapse some of these into an \"other\" category. Otherwise, a bar chart of this column would look very crowded."
   ]
  },
  {
   "cell_type": "code",
   "execution_count": 21,
   "metadata": {},
   "outputs": [
    {
     "data": {
      "text/plain": [
       "array([230, 211, 210, 208, 198, 186, 184, 180, 177, 162, 152, 151, 146,\n",
       "       144, 141, 141, 131, 120, 110, 109, 108, 106, 102,  97,  96,  96,\n",
       "        93,  93,  90,  83,  80,  77,  77,  72,  71,  70,  68,  67,  65,\n",
       "        63,  60,  58,  53,  50,  47,  47,  43,  42,  40,  39,  37,  35,\n",
       "        35,  34,  32,  31,  26,  26,  24,  24,  23,  22,  21,  20,  20,\n",
       "        18,  17,  16,  15,  15,  14,  12,  12,  12,  11,  11,  11,  11,\n",
       "        11,  10,  10,   9,   9,   9,   9,   9,   9,   8,   8,   8,   8,\n",
       "         7,   7,   7,   7,   7,   7,   6,   6,   6,   6,   6,   5,   5,\n",
       "         5,   5,   5,   5,   4,   4,   4,   4,   4,   4,   4,   4,   4,\n",
       "         4,   4,   4,   4,   3,   3,   3,   3,   3,   3,   3,   3,   3,\n",
       "         3,   3,   3,   3,   3,   3,   3,   2,   2,   2,   2,   2,   2,\n",
       "         2,   2,   2,   2,   2,   2,   2,   2,   2,   2,   2,   2,   2,\n",
       "         2,   2,   2,   2,   2,   2,   2,   2,   1,   1,   1,   1,   1,\n",
       "         1,   1,   1,   1,   1,   1,   1,   1,   1,   1,   1,   1,   1,\n",
       "         1,   1,   1,   1,   1,   1,   1,   1,   1,   1,   1,   1,   1])"
      ]
     },
     "execution_count": 21,
     "metadata": {},
     "output_type": "execute_result"
    }
   ],
   "source": [
    "# Take a look at all the counts\n",
    "tbl = taxis.pickup_zone.value_counts(dropna=False)\n",
    "tbl.values"
   ]
  },
  {
   "cell_type": "code",
   "execution_count": 22,
   "metadata": {
    "collapsed": true
   },
   "outputs": [],
   "source": [
    "# Let's grab the names of all zones with less than 100 trips\n",
    "low_zones = tbl.index[tbl.values <100]\n",
    "\n",
    "# And then replace all of those values with 'other'\n",
    "taxis.loc[taxis.pickup_zone.isin(low_zones), 'pickup_zone'] = 'other'"
   ]
  },
  {
   "cell_type": "code",
   "execution_count": 23,
   "metadata": {},
   "outputs": [
    {
     "data": {
      "image/png": "[encoded data removed]",
      "text/plain": [
       "<Figure size 432x288 with 1 Axes>"
      ]
     },
     "metadata": {
      "needs_background": "light"
     },
     "output_type": "display_data"
    }
   ],
   "source": [
    "# Now let's inspect using a bar chart\n",
    "sns.countplot(y = 'pickup_zone', data = taxis)\n",
    "plt.show()"
   ]
  },
  {
   "cell_type": "markdown",
   "metadata": {},
   "source": [
    "Note that it's hard to compare the bar heights because the \"other\" category is so large. We can fix that by removing \"other\" from our plot."
   ]
  },
  {
   "cell_type": "code",
   "execution_count": 24,
   "metadata": {},
   "outputs": [
    {
     "data": {
      "image/png": "[encoded data removed]",
      "text/plain": [
       "<Figure size 432x288 with 1 Axes>"
      ]
     },
     "metadata": {
      "needs_background": "light"
     },
     "output_type": "display_data"
    }
   ],
   "source": [
    "# Replot without that category\n",
    "df_sub = taxis[taxis.pickup_zone != 'other']\n",
    "sns.countplot(y = 'pickup_zone', data = df_sub)\n",
    "plt.show()"
   ]
  },
  {
   "cell_type": "code",
   "execution_count": 25,
   "metadata": {},
   "outputs": [
    {
     "data": {
      "image/png": "[encoded data removed]",
      "text/plain": [
       "<Figure size 432x288 with 1 Axes>"
      ]
     },
     "metadata": {
      "needs_background": "light"
     },
     "output_type": "display_data"
    }
   ],
   "source": [
    "# And now let's order the bars\n",
    "sns.countplot(y = 'pickup_zone', \n",
    "              data = df_sub,\n",
    "              order = df_sub.pickup_zone.value_counts().index)\n",
    "plt.show()"
   ]
  },
  {
   "cell_type": "markdown",
   "metadata": {},
   "source": [
    "<hr style=\"border:2px solid gray\"> </hr>\n",
    "\n",
    "#### YOU TRY\n",
    "\n",
    "**How many different payment options are there? Do more people pay with cash or with a credit card? In the space below, calculate the number of trips that paid with each payment method, the proportion of trips that paid with each payment method, and graph a bar chart to visualize these numbers.**\n",
    "\n",
    "For a challenge, see if you can figure out how to include the missing values in the bar chart!"
   ]
  },
  {
   "cell_type": "code",
   "execution_count": 85,
   "metadata": {},
   "outputs": [
    {
     "data": {
      "text/plain": [
       "credit card    4577\n",
       "cash           1812\n",
       "null             44\n",
       "Name: payment, dtype: int64"
      ]
     },
     "execution_count": 85,
     "metadata": {},
     "output_type": "execute_result"
    }
   ],
   "source": [
    "# Calculate the number of trips paid with each payment option\n",
    "###\n",
    "taxis['payment'].fillna(\"null\",inplace = True)\n",
    "answer = taxis['payment'].value_counts()\n",
    "answer\n",
    "###\n"
   ]
  },
  {
   "cell_type": "code",
   "execution_count": 91,
   "metadata": {},
   "outputs": [
    {
     "name": "stdout",
     "output_type": "stream",
     "text": [
      "the proportions is 71.1 % with credit card and 28.2 % with cash , while there is 0.684 % nulls\n"
     ]
    }
   ],
   "source": [
    "# Calculate the proportion of trips paid with each payment option\n",
    "###\n",
    "credit_card = taxis[taxis['payment'] == 'credit card'].shape[0] / (taxis['payment'].shape[0]) * 100\n",
    "cash = taxis[taxis['payment'] == 'cash'].shape[0] / (taxis['payment'].shape[0]) * 100\n",
    "nulls = taxis[taxis['payment'] == 'null'].shape[0]/(taxis['payment'].shape[0]) * 100\n",
    "a ='{0:.3g}'.format(credit_card)\n",
    "b ='{0:.3g}'.format(cash)\n",
    "c = '{0:.3g}'.format(nulls)\n",
    "print(f\"the proportions is {a} % with credit card and {b} % with cash , while there is {c} % nulls\".format(\".2f%\",\".2f%\"))\n",
    "###\n"
   ]
  },
  {
   "cell_type": "code",
   "execution_count": 92,
   "metadata": {},
   "outputs": [
    {
     "data": {
      "text/plain": [
       "<AxesSubplot:xlabel='payment', ylabel='count'>"
      ]
     },
     "execution_count": 92,
     "metadata": {},
     "output_type": "execute_result"
    },
    {
     "data": {
      "image/png": "[encoded data removed]",
      "text/plain": [
       "<Figure size 432x288 with 1 Axes>"
      ]
     },
     "metadata": {
      "needs_background": "light"
     },
     "output_type": "display_data"
    }
   ],
   "source": [
    "# Create a bar chart of payment options\n",
    "###\n",
    "sns.countplot(x='payment',data = taxis , order = taxis['payment'].value_counts().index)\n",
    "###\n"
   ]
  },
  {
   "cell_type": "markdown",
   "metadata": {},
   "source": [
    "<hr style=\"border:2px solid gray\"> </hr>"
   ]
  },
  {
   "cell_type": "markdown",
   "metadata": {},
   "source": [
    "## Practice on Your Own\n",
    "\n",
    "Complete the following prompts to practice your skills. \n",
    "\n",
    "We've loaded some new data for you that includes information about passengers on the Titanic. For more information about the dataset, you can [read about it on Kaggle](https://www.kaggle.com/c/titanic/data?select=train.csv)."
   ]
  },
  {
   "cell_type": "code",
   "execution_count": 94,
   "metadata": {},
   "outputs": [
    {
     "data": {
      "text/plain": [
       "array([3, 1, 2])"
      ]
     },
     "execution_count": 94,
     "metadata": {},
     "output_type": "execute_result"
    }
   ],
   "source": [
    "# Load data as titanic\n",
    "titanic = pd.read_csv('titanic.csv')\n",
    "titanic['pclass'].unique()"
   ]
  },
  {
   "cell_type": "markdown",
   "metadata": {},
   "source": [
    "#### 1. Inspect the dataset. How much data is there? Which columns (if any) have missing data and how much?"
   ]
  },
  {
   "cell_type": "code",
   "execution_count": 60,
   "metadata": {},
   "outputs": [
    {
     "name": "stdout",
     "output_type": "stream",
     "text": [
      "Titanic has 891 rows and 8 columns\n"
     ]
    },
    {
     "data": {
      "text/plain": [
       "survived         0\n",
       "pclass           0\n",
       "sex              0\n",
       "age            177\n",
       "sibsp            0\n",
       "parch            0\n",
       "fare             0\n",
       "embark_town      2\n",
       "dtype: int64"
      ]
     },
     "execution_count": 60,
     "metadata": {},
     "output_type": "execute_result"
    }
   ],
   "source": [
    "# 1\n",
    "###\n",
    "no_rows = titanic.shape[0]\n",
    "no_columns = titanic.shape[1]\n",
    "print(f\"Titanic has {no_rows} rows and {no_columns} columns\")\n",
    "column_names = titanic.columns\n",
    "titanic.isnull().sum()\n",
    "###\n"
   ]
  },
  {
   "cell_type": "markdown",
   "metadata": {},
   "source": [
    "#### 2. There are two passengers who have missing data for the `embark_town` column. Print out the rows that correspond to those two passengers and inspect them. Do you have any guesses as to why the embark_town field is missing for them?"
   ]
  },
  {
   "cell_type": "code",
   "execution_count": 62,
   "metadata": {},
   "outputs": [
    {
     "data": {
      "text/html": [
       "<div>\n",
       "<style scoped>\n",
       "    .dataframe tbody tr th:only-of-type {\n",
       "        vertical-align: middle;\n",
       "    }\n",
       "\n",
       "    .dataframe tbody tr th {\n",
       "        vertical-align: top;\n",
       "    }\n",
       "\n",
       "    .dataframe thead th {\n",
       "        text-align: right;\n",
       "    }\n",
       "</style>\n",
       "<table border=\"1\" class=\"dataframe\">\n",
       "  <thead>\n",
       "    <tr style=\"text-align: right;\">\n",
       "      <th></th>\n",
       "      <th>survived</th>\n",
       "      <th>pclass</th>\n",
       "      <th>sex</th>\n",
       "      <th>age</th>\n",
       "      <th>sibsp</th>\n",
       "      <th>parch</th>\n",
       "      <th>fare</th>\n",
       "      <th>embark_town</th>\n",
       "    </tr>\n",
       "  </thead>\n",
       "  <tbody>\n",
       "    <tr>\n",
       "      <th>61</th>\n",
       "      <td>1</td>\n",
       "      <td>1</td>\n",
       "      <td>female</td>\n",
       "      <td>38.0</td>\n",
       "      <td>0</td>\n",
       "      <td>0</td>\n",
       "      <td>80.0</td>\n",
       "      <td>NaN</td>\n",
       "    </tr>\n",
       "    <tr>\n",
       "      <th>829</th>\n",
       "      <td>1</td>\n",
       "      <td>1</td>\n",
       "      <td>female</td>\n",
       "      <td>62.0</td>\n",
       "      <td>0</td>\n",
       "      <td>0</td>\n",
       "      <td>80.0</td>\n",
       "      <td>NaN</td>\n",
       "    </tr>\n",
       "  </tbody>\n",
       "</table>\n",
       "</div>"
      ],
      "text/plain": [
       "     survived  pclass     sex   age  sibsp  parch  fare embark_town\n",
       "61          1       1  female  38.0      0      0  80.0         NaN\n",
       "829         1       1  female  62.0      0      0  80.0         NaN"
      ]
     },
     "execution_count": 62,
     "metadata": {},
     "output_type": "execute_result"
    }
   ],
   "source": [
    "# 2\n",
    "###\n",
    "missing_two = titanic[titanic[\"embark_town\"].isnull()]\n",
    "missing_two\n",
    "###\n"
   ]
  },
  {
   "cell_type": "markdown",
   "metadata": {},
   "source": [
    "#### 3. Calculate (and print) the mean, median, standard deviation, minimum, 25th percentile, 75th percentile, and maximum of the `fare` variable. Inspect the output. What is a typical fare?"
   ]
  },
  {
   "cell_type": "code",
   "execution_count": 65,
   "metadata": {},
   "outputs": [
    {
     "data": {
      "text/plain": [
       "count    891.000000\n",
       "mean      32.204208\n",
       "std       49.693429\n",
       "min        0.000000\n",
       "25%        7.910400\n",
       "50%       14.454200\n",
       "75%       31.000000\n",
       "max      512.329200\n",
       "Name: fare, dtype: float64"
      ]
     },
     "execution_count": 65,
     "metadata": {},
     "output_type": "execute_result"
    }
   ],
   "source": [
    "# 3\n",
    "###\n",
    "titanic['fare'].describe()\n",
    "###\n"
   ]
  },
  {
   "cell_type": "markdown",
   "metadata": {},
   "source": [
    "Average fare was 32.20 euros, but median fare was only 14.45 euros, signaling that this is very right skewed. Typical fare seems to be about 8-30 euros."
   ]
  },
  {
   "cell_type": "markdown",
   "metadata": {},
   "source": [
    "#### 4. To visualize the distribution of fares, create at least one distribution plot. For example, you could use a histogram, kdeplot, violin plot, or ECDF. Inspect the plot. What does this tell you about the fares?"
   ]
  },
  {
   "cell_type": "code",
   "execution_count": 68,
   "metadata": {},
   "outputs": [
    {
     "data": {
      "text/plain": [
       "(array([562., 170.,  67.,  39.,  15.,  16.,   2.,   0.,   9.,   2.,   6.,\n",
       "          0.,   0.,   0.,   0.,   0.,   0.,   0.,   0.,   3.]),\n",
       " array([  0.     ,  25.61646,  51.23292,  76.84938, 102.46584, 128.0823 ,\n",
       "        153.69876, 179.31522, 204.93168, 230.54814, 256.1646 , 281.78106,\n",
       "        307.39752, 333.01398, 358.63044, 384.2469 , 409.86336, 435.47982,\n",
       "        461.09628, 486.71274, 512.3292 ]),\n",
       " <BarContainer object of 20 artists>)"
      ]
     },
     "execution_count": 68,
     "metadata": {},
     "output_type": "execute_result"
    },
    {
     "data": {
      "image/png": "[encoded data removed]",
      "text/plain": [
       "<Figure size 432x288 with 1 Axes>"
      ]
     },
     "metadata": {
      "needs_background": "light"
     },
     "output_type": "display_data"
    }
   ],
   "source": [
    "# 4\n",
    "###\n",
    "plt.hist(x = 'fare', data = titanic, bins = 20)\n",
    "###\n"
   ]
  },
  {
   "cell_type": "markdown",
   "metadata": {},
   "source": [
    "#### 5. There are three outliers who paid significantly higher fares than everyone else. print out those rows and inspect them. What can you learn about those passengers?"
   ]
  },
  {
   "cell_type": "code",
   "execution_count": 69,
   "metadata": {},
   "outputs": [
    {
     "data": {
      "text/html": [
       "<div>\n",
       "<style scoped>\n",
       "    .dataframe tbody tr th:only-of-type {\n",
       "        vertical-align: middle;\n",
       "    }\n",
       "\n",
       "    .dataframe tbody tr th {\n",
       "        vertical-align: top;\n",
       "    }\n",
       "\n",
       "    .dataframe thead th {\n",
       "        text-align: right;\n",
       "    }\n",
       "</style>\n",
       "<table border=\"1\" class=\"dataframe\">\n",
       "  <thead>\n",
       "    <tr style=\"text-align: right;\">\n",
       "      <th></th>\n",
       "      <th>survived</th>\n",
       "      <th>pclass</th>\n",
       "      <th>sex</th>\n",
       "      <th>age</th>\n",
       "      <th>sibsp</th>\n",
       "      <th>parch</th>\n",
       "      <th>fare</th>\n",
       "      <th>embark_town</th>\n",
       "    </tr>\n",
       "  </thead>\n",
       "  <tbody>\n",
       "    <tr>\n",
       "      <th>258</th>\n",
       "      <td>1</td>\n",
       "      <td>1</td>\n",
       "      <td>female</td>\n",
       "      <td>35.0</td>\n",
       "      <td>0</td>\n",
       "      <td>0</td>\n",
       "      <td>512.3292</td>\n",
       "      <td>Cherbourg</td>\n",
       "    </tr>\n",
       "    <tr>\n",
       "      <th>679</th>\n",
       "      <td>1</td>\n",
       "      <td>1</td>\n",
       "      <td>male</td>\n",
       "      <td>36.0</td>\n",
       "      <td>0</td>\n",
       "      <td>1</td>\n",
       "      <td>512.3292</td>\n",
       "      <td>Cherbourg</td>\n",
       "    </tr>\n",
       "    <tr>\n",
       "      <th>737</th>\n",
       "      <td>1</td>\n",
       "      <td>1</td>\n",
       "      <td>male</td>\n",
       "      <td>35.0</td>\n",
       "      <td>0</td>\n",
       "      <td>0</td>\n",
       "      <td>512.3292</td>\n",
       "      <td>Cherbourg</td>\n",
       "    </tr>\n",
       "  </tbody>\n",
       "</table>\n",
       "</div>"
      ],
      "text/plain": [
       "     survived  pclass     sex   age  sibsp  parch      fare embark_town\n",
       "258         1       1  female  35.0      0      0  512.3292   Cherbourg\n",
       "679         1       1    male  36.0      0      1  512.3292   Cherbourg\n",
       "737         1       1    male  35.0      0      0  512.3292   Cherbourg"
      ]
     },
     "execution_count": 69,
     "metadata": {},
     "output_type": "execute_result"
    }
   ],
   "source": [
    "# 5\n",
    "###\n",
    "higher = titanic[titanic[\"fare\"] > 450]\n",
    "higher\n",
    "# I believe that these individuals are related as they both paid the same fee, have nearly the same age \n",
    "# and are from the same town\n",
    "###\n"
   ]
  },
  {
   "cell_type": "markdown",
   "metadata": {},
   "source": [
    "#### 6. Create a bar chart of the locations where passengers embarked (`embark_town`). Where did most of the passengers embark?"
   ]
  },
  {
   "cell_type": "code",
   "execution_count": 73,
   "metadata": {},
   "outputs": [
    {
     "data": {
      "text/plain": [
       "<AxesSubplot:xlabel='embark_town', ylabel='count'>"
      ]
     },
     "execution_count": 73,
     "metadata": {},
     "output_type": "execute_result"
    },
    {
     "data": {
      "image/png": "[encoded data removed]",
      "text/plain": [
       "<Figure size 432x288 with 1 Axes>"
      ]
     },
     "metadata": {
      "needs_background": "light"
     },
     "output_type": "display_data"
    }
   ],
   "source": [
    "# 6\n",
    "###\n",
    "sns.countplot(x = 'embark_town' , data = titanic, order = titanic['embark_town'].value_counts().index)\n",
    "###\n",
    "## The most number of people, embarked from Southhampton\n"
   ]
  }
 ],
 "metadata": {
  "kernelspec": {
   "display_name": "Python 3 [3.7]",
   "language": "python",
   "name": "python3"
  },
  "language_info": {
   "codemirror_mode": {
    "name": "ipython",
    "version": 3
   },
   "file_extension": ".py",
   "mimetype": "text/x-python",
   "name": "python",
   "nbconvert_exporter": "python",
   "pygments_lexer": "ipython3",
   "version": "3.7.5"
  }
 },
 "nbformat": 4,
 "nbformat_minor": 5
}
