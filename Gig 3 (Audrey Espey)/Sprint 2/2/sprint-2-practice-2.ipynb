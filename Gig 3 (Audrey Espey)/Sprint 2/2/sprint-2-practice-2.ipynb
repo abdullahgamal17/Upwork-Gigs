{
 "cells": [
  {
   "cell_type": "markdown",
   "metadata": {},
   "source": [
    "## Practice: Can Santa Deliver?\n",
    "\n",
    "In this exercise, you'll practice simulating sampling distributions and learn about biased estimators."
   ]
  },
  {
   "cell_type": "markdown",
   "metadata": {},
   "source": [
    "### Sampling Distribution of Variance\n",
    "\n",
    "In this example, we'll simulate a sampling distribution of population variance and sample variance to see how population variance (the sum of squared distances from the mean divided by the sample size) is a biased estimator, whereas sample variance is not."
   ]
  },
  {
   "cell_type": "code",
   "execution_count": 1,
   "metadata": {},
   "outputs": [
    {
     "name": "stderr",
     "output_type": "stream",
     "text": [
      "Matplotlib is building the font cache; this may take a moment.\n"
     ]
    },
    {
     "name": "stdout",
     "output_type": "stream",
     "text": [
      "The libraries are loaded\n"
     ]
    }
   ],
   "source": [
    "# Import libraries\n",
    "import pandas as pd\n",
    "import numpy as np\n",
    "import matplotlib.pyplot as plt\n",
    "print('The libraries are loaded')"
   ]
  },
  {
   "cell_type": "markdown",
   "metadata": {},
   "source": [
    "To start, let's simulate a hypothetical population. Imagine that the following population (`pop`) represents the shipping time (in days) for all orders from a popular toy shop. Will these toys get to their destinations on time?"
   ]
  },
  {
   "cell_type": "code",
   "execution_count": 2,
   "metadata": {
    "collapsed": true
   },
   "outputs": [],
   "source": [
    "# Create a hypothetical population\n",
    "np.random.seed(123)\n",
    "pop = np.round(np.random.gamma(shape=10, scale=1, size=100000),2)"
   ]
  },
  {
   "cell_type": "code",
   "execution_count": 3,
   "metadata": {},
   "outputs": [
    {
     "data": {
      "image/png": "[encoded data removed]",
      "text/plain": [
       "<Figure size 432x288 with 1 Axes>"
      ]
     },
     "metadata": {
      "needs_background": "light"
     },
     "output_type": "display_data"
    }
   ],
   "source": [
    "# Visualize the population distribution\n",
    "plt.hist(pop, bins=30)\n",
    "plt.show()"
   ]
  },
  {
   "cell_type": "markdown",
   "metadata": {},
   "source": [
    "Using our population of values, let's calculate the true population variance in shipping times."
   ]
  },
  {
   "cell_type": "code",
   "execution_count": 4,
   "metadata": {},
   "outputs": [
    {
     "data": {
      "text/plain": [
       "9.925702613193751"
      ]
     },
     "execution_count": 4,
     "metadata": {},
     "output_type": "execute_result"
    }
   ],
   "source": [
    "# Calculate the variance of the population\n",
    "true_population_variance = np.var(pop)\n",
    "true_population_variance"
   ]
  },
  {
   "cell_type": "markdown",
   "metadata": {},
   "source": [
    "Now, let's imagine that we work as an analyst for this toy company and we are interested in understanding how much variation there is in shipping times for our orders. To answer our question, we'll probably start by taking a random sample of orders. \n",
    "\n",
    "To start, let's just take a sample of 5 orders so we can inspect them. The code below randomly selects 5 values from our population. If you run the cell a few times, you'll see that you get different samples each time. That's because this is a random process."
   ]
  },
  {
   "cell_type": "code",
   "execution_count": 8,
   "metadata": {},
   "outputs": [
    {
     "data": {
      "text/plain": [
       "array([10.16, 16.04, 12.46, 14.25,  3.78])"
      ]
     },
     "execution_count": 8,
     "metadata": {},
     "output_type": "execute_result"
    }
   ],
   "source": [
    "# Take a sample of size 5 from the population\n",
    "s = 5\n",
    "np.random.choice(pop, s, replace=False)"
   ]
  },
  {
   "cell_type": "markdown",
   "metadata": {},
   "source": [
    "Now, let's take a new sample of size 5 and calculate the variance of our sample. If our goal is to estimate the variation in the population (using the sample that we actually observed), then we would hope that the sample variance is similar to the population variance.\n",
    "\n",
    "There are actually two ways to calculate variance: _**Population variance**_ is used to calculate the variance of a population, whereas _**sample variance**_ is used to calculate the variance of a sample. The formula for population variance has a denominator of n (the sample size), whereas sample variance has a denominator of n-1. We can use the `ddof` parameter in the `np.var()` function to specify which one we want to calculate.\n",
    "\n",
    "Run the cell below a few times to see the sample and population variance for a few different samples of 5 shipping times. Compare those values to the true population variance. Are both values close? Is one consistently closer than the other?"
   ]
  },
  {
   "cell_type": "code",
   "execution_count": 27,
   "metadata": {},
   "outputs": [
    {
     "name": "stdout",
     "output_type": "stream",
     "text": [
      "True population variance:  9.925702613193751\n",
      "Population variance:  9.074376\n",
      "Sample variance:  11.342970000000001\n"
     ]
    }
   ],
   "source": [
    "# Take a sample of size 5 and calculate population and sample variance\n",
    "s = 5\n",
    "samp = np.random.choice(pop, s, replace=False)\n",
    "pop_var = np.var(samp, ddof=0)\n",
    "samp_var = np.var(samp, ddof=1)\n",
    "\n",
    "print('True population variance: ', true_population_variance)\n",
    "print('Population variance: ', pop_var)\n",
    "print('Sample variance: ', samp_var)"
   ]
  },
  {
   "cell_type": "markdown",
   "metadata": {},
   "source": [
    "Running a block of code a bunch of times and eyeballing the relationship between three values can only be so useful. Instead, let's leverage the power of Python to repeat this process a large number of times (10000 in the example below) and collect the population and sample variance each time. Then, we can inspect their distribution and compare to the true population variance.\n",
    "\n",
    "The code below does the following:\n",
    "- Create two empty lists to store the population and sample variances\n",
    "- Repeat the following process 10000 times:\n",
    "  - Take a random sample of 5 shipping times from the population\n",
    "  - Calculate the population variance for the sample and append it to the list of population variances\n",
    "  - Calculate the sample variance for the sample and append it to the list of sample variances"
   ]
  },
  {
   "cell_type": "code",
   "execution_count": 28,
   "metadata": {
    "collapsed": true
   },
   "outputs": [],
   "source": [
    "# Create a sampling distribution using a for loop\n",
    "samp_dist_pop_var = []\n",
    "samp_dist_samp_var = []\n",
    "s = 5 # sample size\n",
    "niter = 10000 # number of iterations (any large number works)\n",
    "\n",
    "for i in range(niter):\n",
    "    samp = np.random.choice(pop, s, replace=False)\n",
    "    samp_dist_pop_var.append(np.var(samp, ddof=0))\n",
    "    samp_dist_samp_var.append(np.var(samp, ddof=1))"
   ]
  },
  {
   "cell_type": "markdown",
   "metadata": {},
   "source": [
    "Now, let's plot the distribution of population variances for each sample of 5. We've also drawn a red vertical line at the true population variance and a black line at the average population variance for our 10000 random samples. \n",
    "\n",
    "Note that the red and black lines are offset from each other. This means that population variance (the formula that we used to calculate the variance of the population, which involved a denominator of n) is a _**biased**_ estimator of the true population variance. In other words, if we calculated the variance of our sample in the same way that we calculated the variance of the full population, we would be underestimating the true variance of shipping times by a little bit (on average). "
   ]
  },
  {
   "cell_type": "code",
   "execution_count": 29,
   "metadata": {},
   "outputs": [
    {
     "data": {
      "image/png": "[encoded data removed]",
      "text/plain": [
       "<Figure size 432x288 with 1 Axes>"
      ]
     },
     "metadata": {
      "needs_background": "light"
     },
     "output_type": "display_data"
    }
   ],
   "source": [
    "# Plot a histogram of the sampling distribution of population variance\n",
    "plt.hist(samp_dist_pop_var, bins=30, alpha=.5)\n",
    "plt.axvline(true_population_variance, \n",
    "            color='red', \n",
    "            label='True Population Variance', \n",
    "            lw=3)\n",
    "plt.axvline(np.mean(samp_dist_pop_var), \n",
    "            color='black', \n",
    "            label='Mean of the Sampling Distribution', \n",
    "            lw=3)\n",
    "plt.legend()\n",
    "plt.show()"
   ]
  },
  {
   "cell_type": "markdown",
   "metadata": {},
   "source": [
    "However, if we calculate the variance of our sample using the sample variance formula (which has a denominator of n-1), these lines are no longer offset (see below). Thus, sample variance is an _**unbiased**_ estimator of the population variance. \n",
    "\n",
    "This is why researchers often calculate sample variance using a slightly different formula! Specifically, if our goal is to use a sample to estimate variation in a population that we can't observe (in this example, that might be because the population includes future orders that we haven't observed yet), we should use the sample variance formula for our estimation."
   ]
  },
  {
   "cell_type": "code",
   "execution_count": 30,
   "metadata": {},
   "outputs": [
    {
     "data": {
      "image/png": "[encoded data removed]",
      "text/plain": [
       "<Figure size 432x288 with 1 Axes>"
      ]
     },
     "metadata": {
      "needs_background": "light"
     },
     "output_type": "display_data"
    }
   ],
   "source": [
    "# Plot a histogram of the sampling distribution of sample variance\n",
    "plt.hist(samp_dist_samp_var, bins=30, alpha=.5)\n",
    "plt.axvline(true_population_variance, \n",
    "            color='red', \n",
    "            label='True Population Variance', \n",
    "            lw=3)\n",
    "plt.axvline(np.mean(samp_dist_samp_var), \n",
    "            color='black', \n",
    "            label='Mean of the Sampling Distribution', \n",
    "            lw=3)\n",
    "plt.legend()\n",
    "plt.show()"
   ]
  },
  {
   "cell_type": "markdown",
   "metadata": {},
   "source": [
    "## Practice on Your Own\n",
    "\n",
    "In this practice, you'll construct a sampling distribution of the maximum and determine whether it is a biased estimator of the population maximum."
   ]
  },
  {
   "cell_type": "markdown",
   "metadata": {},
   "source": [
    "#### 1. Calculate the maximum shipping time (the max value in the `pop` array)."
   ]
  },
  {
   "cell_type": "code",
   "execution_count": 31,
   "metadata": {},
   "outputs": [
    {
     "data": {
      "text/plain": [
       "29.25"
      ]
     },
     "execution_count": 31,
     "metadata": {},
     "output_type": "execute_result"
    }
   ],
   "source": [
    "# 1\n",
    "###\n",
    "pop.max()\n",
    "###\n"
   ]
  },
  {
   "cell_type": "markdown",
   "metadata": {},
   "source": [
    "#### 2. Using the `pop` array, simulate a sampling distribution of the maximum for a sample size of 10. Use 1000 iterations."
   ]
  },
  {
   "cell_type": "code",
   "execution_count": 33,
   "metadata": {
    "collapsed": true
   },
   "outputs": [],
   "source": [
    "# 2\n",
    "samp_distr_max = []\n",
    "###\n",
    "for iter in range(1000):\n",
    "    samp = np.random.choice(pop,10,replace = False)\n",
    "    samp_distr_max.append(samp.max())\n",
    "###\n"
   ]
  },
  {
   "cell_type": "markdown",
   "metadata": {},
   "source": [
    "#### 3. Create a histogram of the simulated sampling distribution. Make sure to add vertical lines at the true population maximum and the mean of the sample maximums. Is the maximum a biased estimator?"
   ]
  },
  {
   "cell_type": "code",
   "execution_count": 50,
   "metadata": {},
   "outputs": [
    {
     "data": {
      "text/plain": [
       "<matplotlib.legend.Legend at 0x7f2fc60768d0>"
      ]
     },
     "execution_count": 50,
     "metadata": {},
     "output_type": "execute_result"
    },
    {
     "data": {
      "image/png": "[encoded data removed]",
      "text/plain": [
       "<Figure size 432x288 with 1 Axes>"
      ]
     },
     "metadata": {
      "needs_background": "light"
     },
     "output_type": "display_data"
    }
   ],
   "source": [
    "# 3\n",
    "###\n",
    "plt.hist(samp_distr_max)\n",
    "plt.axvline(x = pop.max(),\n",
    "           color = 'red',\n",
    "           label = \"True max\")\n",
    "plt.axvline(np.mean(samp_distr_max),\n",
    "           color = 'black',\n",
    "           label = \"Sample max\")\n",
    "plt.legend()\n",
    "###\n"
   ]
  }
 ],
 "metadata": {
  "kernelspec": {
   "display_name": "Python 3 [3.7]",
   "language": "python",
   "name": "python3"
  },
  "language_info": {
   "codemirror_mode": {
    "name": "ipython",
    "version": 3
   },
   "file_extension": ".py",
   "mimetype": "text/x-python",
   "name": "python",
   "nbconvert_exporter": "python",
   "pygments_lexer": "ipython3",
   "version": "3.7.5"
  }
 },
 "nbformat": 4,
 "nbformat_minor": 5
}
