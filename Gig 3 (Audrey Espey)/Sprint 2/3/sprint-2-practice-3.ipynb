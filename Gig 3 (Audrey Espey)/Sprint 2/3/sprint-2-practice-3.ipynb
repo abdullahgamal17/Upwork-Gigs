{
 "cells": [
  {
   "cell_type": "markdown",
   "metadata": {},
   "source": [
    "## Practice: Truth, Lies and Overconfidence\n",
    "\n",
    "In this exercise, we'll return to some data from the Modal Times to help them understand their subscriber demographics."
   ]
  },
  {
   "cell_type": "markdown",
   "metadata": {},
   "source": [
    "### Population Distribution\n",
    "\n",
    "Let's imagine for a moment that we're all powerful and have access to any information or data we'd like, including data that would be un-collectable in the real world!\n",
    "\n",
    "The modal times is interested in understanding how old their subscriber base is. This will help them better understand how to market their product. As all powerful beings, we can inspect the ages (on the day that they first subscribed) of all people who subscribed to the Modal Times last year. Let's start by taking a look at this population distribution."
   ]
  },
  {
   "cell_type": "code",
   "execution_count": 1,
   "metadata": {},
   "outputs": [
    {
     "name": "stderr",
     "output_type": "stream",
     "text": [
      "Matplotlib is building the font cache; this may take a moment.\n"
     ]
    },
    {
     "name": "stdout",
     "output_type": "stream",
     "text": [
      "The libraries are loaded\n"
     ]
    }
   ],
   "source": [
    "# Import libraries\n",
    "import pandas as pd\n",
    "import numpy as np\n",
    "import matplotlib.pyplot as plt\n",
    "import seaborn as sns\n",
    "import scipy.stats as st\n",
    "print('The libraries are loaded')"
   ]
  },
  {
   "cell_type": "code",
   "execution_count": 2,
   "metadata": {
    "collapsed": true
   },
   "outputs": [],
   "source": [
    "# Load the population of ages\n",
    "pop_ages = np.genfromtxt('ages_population.txt')"
   ]
  },
  {
   "cell_type": "code",
   "execution_count": 3,
   "metadata": {},
   "outputs": [
    {
     "data": {
      "image/png": "[encoded data removed]",
      "text/plain": [
       "<Figure size 432x288 with 1 Axes>"
      ]
     },
     "metadata": {
      "needs_background": "light"
     },
     "output_type": "display_data"
    }
   ],
   "source": [
    "# Visualize the population distribution\n",
    "plt.hist(pop_ages, bins=30)\n",
    "plt.show()"
   ]
  },
  {
   "cell_type": "markdown",
   "metadata": {},
   "source": [
    "One question we might have is: what is the average age of a Modal times subscriber? To answer this question, let's calculate the average age in this population. "
   ]
  },
  {
   "cell_type": "code",
   "execution_count": 4,
   "metadata": {},
   "outputs": [
    {
     "data": {
      "text/plain": [
       "42.022225"
      ]
     },
     "execution_count": 4,
     "metadata": {},
     "output_type": "execute_result"
    }
   ],
   "source": [
    "# Calculate the mean age of the subscribers\n",
    "true_population_mean = np.mean(pop_ages)\n",
    "true_population_mean"
   ]
  },
  {
   "cell_type": "markdown",
   "metadata": {},
   "source": [
    "### Sample Distribution\n",
    "\n",
    "Now, let's imagine we are a researcher. We don't have access to the ages of all people who subscribed to the Modal Times last year. Lots of people didn't fill out their birthdays when they signed up!\n",
    "\n",
    "However, we do have a random sample of 100 subscribers for whom we made sure to collect this information. Let's take a look at that sample."
   ]
  },
  {
   "cell_type": "code",
   "execution_count": 5,
   "metadata": {
    "collapsed": true
   },
   "outputs": [],
   "source": [
    "# Load the sample ages\n",
    "samp_ages = np.genfromtxt('ages_sample.txt')"
   ]
  },
  {
   "cell_type": "markdown",
   "metadata": {},
   "source": [
    "Let's inspect the sample distribution and calculate the sample mean."
   ]
  },
  {
   "cell_type": "code",
   "execution_count": 6,
   "metadata": {},
   "outputs": [
    {
     "data": {
      "image/png": "[encoded data removed]",
      "text/plain": [
       "<Figure size 432x288 with 1 Axes>"
      ]
     },
     "metadata": {
      "needs_background": "light"
     },
     "output_type": "display_data"
    }
   ],
   "source": [
    "# Inspect the sample distribution\n",
    "plt.hist(samp_ages)\n",
    "plt.show()"
   ]
  },
  {
   "cell_type": "code",
   "execution_count": 7,
   "metadata": {},
   "outputs": [
    {
     "data": {
      "text/plain": [
       "43.55"
      ]
     },
     "execution_count": 7,
     "metadata": {},
     "output_type": "execute_result"
    }
   ],
   "source": [
    "# Calculate the sample mean\n",
    "sample_mean = np.mean(samp_ages)\n",
    "sample_mean"
   ]
  },
  {
   "cell_type": "markdown",
   "metadata": {},
   "source": [
    "Our sample mean is 43.55. As all powerful beings, we know that this number is a little higher than the true population mean. But as researchers, we can't know that! \n",
    "\n",
    "Still, the researcher can estimate a confidence interval around this number, which indicates how sure they are that their sample mean is representative of the entire population."
   ]
  },
  {
   "cell_type": "markdown",
   "metadata": {},
   "source": [
    "### Sampl-ING Distribution of the Mean"
   ]
  },
  {
   "cell_type": "markdown",
   "metadata": {},
   "source": [
    "The sampling distribution of the mean is the distribution of sample means from infinitely many random samples drawn from a population. We can simulate it by randomly sampling a large number of samples from a population; OR, we can use the central limit theorem to figure out what it should look like.\n",
    "\n",
    "For now, let's imagine that we're all powerful again, and have access to the full population of ages."
   ]
  },
  {
   "cell_type": "code",
   "execution_count": 8,
   "metadata": {},
   "outputs": [
    {
     "data": {
      "image/png": "[encoded data removed]",
      "text/plain": [
       "<Figure size 432x288 with 1 Axes>"
      ]
     },
     "metadata": {
      "needs_background": "light"
     },
     "output_type": "display_data"
    }
   ],
   "source": [
    "# Simulate the sampling distribution\n",
    "np.random.seed(1)\n",
    "samp_dist = []\n",
    "s = len(samp_ages) # sample size\n",
    "niter = 100 # number of iterations (any large number works)\n",
    "\n",
    "for i in range(niter):\n",
    "    samp = np.random.choice(pop_ages, s, replace=False)\n",
    "    samp_dist.append(np.mean(samp))\n",
    "\n",
    "plt.hist(samp_dist, density=True, alpha=.5)\n",
    "sns.kdeplot(samp_dist, lw=2, label='Simulated', color='blue')\n",
    "plt.show()"
   ]
  },
  {
   "cell_type": "markdown",
   "metadata": {},
   "source": [
    "The Central Limit Theorem (CLT) actually tells us what this simulated curve should look like: It should be normally distributed with mean equal to the population mean and standard deviation equal to the population standard deviation divided by the square root of the sample size."
   ]
  },
  {
   "cell_type": "code",
   "execution_count": 9,
   "metadata": {
    "collapsed": true
   },
   "outputs": [],
   "source": [
    "# Calculate sample size, sample mean, and standard error\n",
    "sample_size = len(samp_ages)\n",
    "mean_samp_dist = true_population_mean\n",
    "standard_error = np.std(pop_ages)/np.sqrt(sample_size)"
   ]
  },
  {
   "cell_type": "markdown",
   "metadata": {},
   "source": [
    "Now, we can superimpose the expected distribution (based on the CLT) on top of the simulated one to see how similar they are."
   ]
  },
  {
   "cell_type": "code",
   "execution_count": 10,
   "metadata": {},
   "outputs": [
    {
     "data": {
      "image/png": "[encoded data removed]",
      "text/plain": [
       "<Figure size 432x288 with 1 Axes>"
      ]
     },
     "metadata": {
      "needs_background": "light"
     },
     "output_type": "display_data"
    }
   ],
   "source": [
    "# Calculate the mean and standard deviation (standard error)\n",
    "plt.hist(samp_dist, density=True, alpha=.5)\n",
    "sns.kdeplot(samp_dist, lw=2, label='Simulated', color='blue')\n",
    "x = np.linspace(mean_samp_dist - 3*standard_error, mean_samp_dist + 3*standard_error, 100)\n",
    "plt.plot(x, st.norm.pdf(x, mean_samp_dist, standard_error), lw=2, label='CLT')\n",
    "plt.legend()\n",
    "plt.show()"
   ]
  },
  {
   "cell_type": "markdown",
   "metadata": {},
   "source": [
    "Based on this picture, we can see that most of the simulated sample means are between 38 and 46 (or within 4 years from the true sample mean). We can calculate the 2.5th and 97.5th percentiles of the simulated data or the percentiles of the true CLT-based sampling distribution."
   ]
  },
  {
   "cell_type": "code",
   "execution_count": 11,
   "metadata": {},
   "outputs": [
    {
     "name": "stdout",
     "output_type": "stream",
     "text": [
      "2.5th percentile:  38.25\n",
      "97.5th percentile:  45.405249999999995\n"
     ]
    }
   ],
   "source": [
    "# Calculate percentiles of simulated sampling distribution\n",
    "low_bound_sim = np.percentile(samp_dist, 2.5)\n",
    "high_bound_sim = np.percentile(samp_dist, 97.5)\n",
    "\n",
    "print('2.5th percentile: ', low_bound_sim)\n",
    "print('97.5th percentile: ', high_bound_sim)"
   ]
  },
  {
   "cell_type": "code",
   "execution_count": 12,
   "metadata": {},
   "outputs": [
    {
     "name": "stdout",
     "output_type": "stream",
     "text": [
      "2.5th percentile:  38.71310222645504\n",
      "97.5th percentile:  45.331347773544955\n"
     ]
    }
   ],
   "source": [
    "# Calculate the true percentiles using the CLT\n",
    "low_bound = st.norm.ppf(.025, loc = mean_samp_dist, scale = standard_error)\n",
    "high_bound = st.norm.ppf(.975, loc = mean_samp_dist, scale = standard_error)\n",
    "\n",
    "print('2.5th percentile: ', low_bound)\n",
    "print('97.5th percentile: ', high_bound)"
   ]
  },
  {
   "cell_type": "markdown",
   "metadata": {},
   "source": [
    "### 95% Confidence Interval: Researcher Mode\n",
    "\n",
    "As the researcher, we can't simulate the sampling distribution like we did above. We also don't know the population mean or standard deviation; however, we CAN estimate both using the sample mean and standard deviation. This helps us understand how sure can we be that our sample mean is close to the true population mean."
   ]
  },
  {
   "cell_type": "code",
   "execution_count": 13,
   "metadata": {},
   "outputs": [
    {
     "data": {
      "text/plain": [
       "1.7679169389511213"
      ]
     },
     "execution_count": 13,
     "metadata": {},
     "output_type": "execute_result"
    }
   ],
   "source": [
    "# Estimated standard error\n",
    "sample_size = len(samp_ages)\n",
    "sample_mean = np.mean(samp_ages)\n",
    "sample_sd = np.std(samp_ages, ddof=1)\n",
    "\n",
    "estimated_standard_error = sample_sd/np.sqrt(sample_size)\n",
    "estimated_standard_error"
   ]
  },
  {
   "cell_type": "code",
   "execution_count": 14,
   "metadata": {},
   "outputs": [
    {
     "name": "stdout",
     "output_type": "stream",
     "text": [
      "Sample Mean:  43.55\n",
      "Lower bound:  40.0849464719975\n",
      "Upper bound:  47.01505352800249\n"
     ]
    }
   ],
   "source": [
    "# Estimated 95% confidence interval\n",
    "low_bound_est = st.norm.ppf(.025, loc = sample_mean, scale = estimated_standard_error)\n",
    "high_bound_est = st.norm.ppf(.975, loc = sample_mean, scale = estimated_standard_error)\n",
    "\n",
    "print('Sample Mean: ', sample_mean)\n",
    "print('Lower bound: ', low_bound_est)\n",
    "print('Upper bound: ', high_bound_est)"
   ]
  },
  {
   "cell_type": "markdown",
   "metadata": {},
   "source": [
    "Based on this data, the researcher would report that the mean age in the 100-person sample was 43.55, with a 95% confidence interval of 40.1 - 47.0. \n",
    "\n",
    "In other words, the researcher is 95% confident that the true population mean is somewhere in the range of 40.1 - 47.0."
   ]
  },
  {
   "cell_type": "markdown",
   "metadata": {},
   "source": [
    "### Confidence Interval for a Proportion\n",
    "\n",
    "So far in this practice, we've used the CLT to calculate a 95% confidence interval around a sample mean. We can also calculate confidence intervals around other sample statistics, like a sample median or proportion. All we need to know is how to estimate the sampling distribution for that statistic!\n",
    "\n",
    "It actually turns out that the sampling distribution for a proportion is approximately the same as for a sample mean! The reason is that we can represent a binary categorical variable as 1s and 0s, where the average of those values gives us the proportion of 1s in the sample.\n",
    "\n",
    "For example, suppose we have a sample of subscribers who have either opted into a student discount (denoted with a `1`) or not (denoted with a `0`). Let's load the data and then calculate the proportion with student discounts."
   ]
  },
  {
   "cell_type": "code",
   "execution_count": 15,
   "metadata": {},
   "outputs": [
    {
     "data": {
      "text/plain": [
       "array([0., 0., 0., 1., 0.])"
      ]
     },
     "execution_count": 15,
     "metadata": {},
     "output_type": "execute_result"
    }
   ],
   "source": [
    "# Load the sample of student discount flags\n",
    "stud_disc = np.genfromtxt('student_discounts_sample.txt')\n",
    "\n",
    "# Print the first 5 values\n",
    "stud_disc[0:5]"
   ]
  },
  {
   "cell_type": "code",
   "execution_count": 16,
   "metadata": {},
   "outputs": [
    {
     "data": {
      "text/plain": [
       "0.22943722943722944"
      ]
     },
     "execution_count": 16,
     "metadata": {},
     "output_type": "execute_result"
    }
   ],
   "source": [
    "# Calculate the proportion of 1s\n",
    "sample_p = np.mean(stud_disc)\n",
    "sample_p"
   ]
  },
  {
   "cell_type": "markdown",
   "metadata": {},
   "source": [
    "So, 22.9% of the subscribers in our sample have opted into a student discount. \n",
    "\n",
    "Now, let's calculate a 95% confidence interval around this value. Even though we are interpreting it as the proportion of subscribers with a student discount, we calculated it by using the mean. The sampling distribution for this proportion is:\n",
    "\n",
    "- Approximately normally distributed (approximate because it is actually a discrete distribution)\n",
    "- Has a mean equal to the population proportion (p)\n",
    "- Has a standard deviation (standard error) equal to sqrt(p*(1-p)/n). \n",
    "\n",
    "In fact, sqrt(p*(1-p)/n) is just a simplified way of writing the same formula that we used for the standard error of the sample mean: sd/sqrt(n). Let's see that in action!"
   ]
  },
  {
   "cell_type": "code",
   "execution_count": 17,
   "metadata": {},
   "outputs": [
    {
     "name": "stdout",
     "output_type": "stream",
     "text": [
      "0.02766495487209972\n",
      "0.02766495487209972\n"
     ]
    }
   ],
   "source": [
    "# Calculate sample size\n",
    "n = len(stud_disc)\n",
    "\n",
    "# Calculate standard error both ways\n",
    "std_err1 = np.sqrt(sample_p*(1-sample_p)/n)\n",
    "std_err2 = np.std(stud_disc)/np.sqrt(n)\n",
    "\n",
    "# Print out both calculations to show they are the same\n",
    "print(std_err1)\n",
    "print(std_err2)"
   ]
  },
  {
   "cell_type": "markdown",
   "metadata": {},
   "source": [
    "Therefore, using a similar process to the one we used earlier, we can calculate a 95% confidence interval around this sample proportion as follows:"
   ]
  },
  {
   "cell_type": "code",
   "execution_count": 18,
   "metadata": {},
   "outputs": [
    {
     "name": "stdout",
     "output_type": "stream",
     "text": [
      "Sample proportion:  0.22943722943722944\n",
      "Lower bound:  0.17521491425398808\n",
      "Upper bound:  0.28365954462047077\n"
     ]
    }
   ],
   "source": [
    "# Estimated 95% confidence interval\n",
    "low_bound_est = st.norm.ppf(.025, loc = sample_p, scale = std_err1)\n",
    "high_bound_est = st.norm.ppf(.975, loc = sample_p, scale = std_err1)\n",
    "\n",
    "print('Sample proportion: ', sample_p)\n",
    "print('Lower bound: ', low_bound_est)\n",
    "print('Upper bound: ', high_bound_est)"
   ]
  },
  {
   "cell_type": "markdown",
   "metadata": {},
   "source": [
    "## Practice on Your Own\n",
    "\n",
    "Following the prompts below, you'll construct confidence intervals for two other demographic characteristics that were collected for this sample: salary in thousands of dollars per year and subscription type (`1` if yearly, `0` if monthly). Run the cell below to load the data, then follow the prompts to calculate confidence intervals for mean salary and proportion of yearly subscribers."
   ]
  },
  {
   "cell_type": "code",
   "execution_count": 20,
   "metadata": {
    "collapsed": true
   },
   "outputs": [],
   "source": [
    "# Load samples of salary and subscription type\n",
    "salary_sample = np.genfromtxt('salary_sample.txt')\n",
    "yearly_subscription = np.genfromtxt('yearly_subscriptions_sample.txt')"
   ]
  },
  {
   "cell_type": "markdown",
   "metadata": {},
   "source": [
    "#### 1. Calculate the mean salary for the provided sample (`salary_sample` )"
   ]
  },
  {
   "cell_type": "code",
   "execution_count": 22,
   "metadata": {},
   "outputs": [
    {
     "data": {
      "text/plain": [
       "50.31022617182918"
      ]
     },
     "execution_count": 22,
     "metadata": {},
     "output_type": "execute_result"
    }
   ],
   "source": [
    "# 1\n",
    "###\n",
    "sample_mean = np.mean(salary_sample)\n",
    "sample_mean\n",
    "###\n"
   ]
  },
  {
   "cell_type": "markdown",
   "metadata": {},
   "source": [
    "#### 2. Calculate a 95% confidence interval for `salary_sample` ."
   ]
  },
  {
   "cell_type": "code",
   "execution_count": 26,
   "metadata": {},
   "outputs": [
    {
     "name": "stdout",
     "output_type": "stream",
     "text": [
      "Sample mean:  50.31022617182918\n",
      "Lower bound:  47.331898509043285\n",
      "Upper bound:  53.28855383461507\n"
     ]
    }
   ],
   "source": [
    "# 1\n",
    "###\n",
    "n = len(salary_sample)\n",
    "std_error = np.std(salary_sample)/np.sqrt(n)\n",
    "\n",
    "low_bound_est = st.norm.ppf(.025, loc = sample_mean, scale = std_error)\n",
    "high_bound_est = st.norm.ppf(.975, loc = sample_mean, scale = std_error)\n",
    "\n",
    "print('Sample mean: ', sample_mean)\n",
    "print('Lower bound: ', low_bound_est)\n",
    "print('Upper bound: ', high_bound_est)\n",
    "###\n"
   ]
  },
  {
   "cell_type": "markdown",
   "metadata": {},
   "source": [
    "#### 3. Calculate a 99% confidence interval for `salary_sample`."
   ]
  },
  {
   "cell_type": "code",
   "execution_count": 27,
   "metadata": {},
   "outputs": [
    {
     "name": "stdout",
     "output_type": "stream",
     "text": [
      "Sample mean:  50.31022617182918\n",
      "Lower bound:  46.39604013071448\n",
      "Upper bound:  54.224412212943875\n"
     ]
    }
   ],
   "source": [
    "# 3\n",
    "###\n",
    "low_bound_est = st.norm.ppf(.005, loc = sample_mean, scale = std_error)\n",
    "high_bound_est = st.norm.ppf(.995, loc = sample_mean, scale = std_error)\n",
    "\n",
    "print('Sample mean: ', sample_mean)\n",
    "print('Lower bound: ', low_bound_est)\n",
    "print('Upper bound: ', high_bound_est)\n",
    "###\n"
   ]
  },
  {
   "cell_type": "markdown",
   "metadata": {},
   "source": [
    "#### 4. Calculate the proportion of subscribers who have a yearly subscription in the provided sample (`yearly_subscription` )."
   ]
  },
  {
   "cell_type": "code",
   "execution_count": 32,
   "metadata": {},
   "outputs": [],
   "source": [
    "# 4\n",
    "###\n",
    "n = len(yearly_subscription)\n",
    "proportion = np.mean(yearly_subscription)\n",
    "std_error =  np.sqrt(proportion*(1-proportion)/n)\n",
    "###\n"
   ]
  },
  {
   "cell_type": "markdown",
   "metadata": {},
   "source": [
    "#### 5. Calculate a 95% confidence interval for `yearly_subscription`."
   ]
  },
  {
   "cell_type": "code",
   "execution_count": 33,
   "metadata": {},
   "outputs": [
    {
     "name": "stdout",
     "output_type": "stream",
     "text": [
      "Sample mean:  0.3127962085308057\n",
      "Lower bound:  0.25023856558495755\n",
      "Upper bound:  0.37535385147665384\n"
     ]
    }
   ],
   "source": [
    "# 5\n",
    "###\n",
    "low_bound_est = st.norm.ppf(.025, loc = proportion, scale = std_error)\n",
    "high_bound_est = st.norm.ppf(.975, loc = proportion, scale = std_error)\n",
    "\n",
    "print('Sample mean: ', proportion)\n",
    "print('Lower bound: ', low_bound_est)\n",
    "print('Upper bound: ', high_bound_est)\n",
    "###\n"
   ]
  }
 ],
 "metadata": {
  "kernelspec": {
   "display_name": "Python 3 [3.7]",
   "language": "python",
   "name": "python3"
  },
  "language_info": {
   "codemirror_mode": {
    "name": "ipython",
    "version": 3
   },
   "file_extension": ".py",
   "mimetype": "text/x-python",
   "name": "python",
   "nbconvert_exporter": "python",
   "pygments_lexer": "ipython3",
   "version": "3.7.5"
  }
 },
 "nbformat": 4,
 "nbformat_minor": 5
}
